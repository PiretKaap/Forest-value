{
 "cells": [
  {
   "cell_type": "markdown",
   "id": "d7cb04f8",
   "metadata": {},
   "source": [
    "### Defining costs"
   ]
  },
  {
   "cell_type": "code",
   "execution_count": 215,
   "id": "7ce59a66",
   "metadata": {},
   "outputs": [],
   "source": [
    "Kulud = {\n",
    "  \"Kompleksteenus(€/tm)\": 15,\n",
    "  \"Transport (€/tm)\": 6,\n",
    "  \"Alghinna(%)\": 10\n",
    "} "
   ]
  },
  {
   "cell_type": "markdown",
   "id": "8d273d80",
   "metadata": {},
   "source": [
    "### Reading in EXCEL file for Wood prices."
   ]
  },
  {
   "cell_type": "code",
   "execution_count": 216,
   "id": "657bd5f6",
   "metadata": {},
   "outputs": [
    {
     "name": "stdout",
     "output_type": "stream",
     "text": [
      "                    Sortiment  Hind (€)\n",
      "0                     Ma palk        95\n",
      "1                     Ku palk        95\n",
      "2                Ks palk/pakk       110\n",
      "3                     Hb palk        58\n",
      "4                     Lm palk        60\n",
      "5                     Lv palk        50\n",
      "6                     Sa palk        40\n",
      "7                     Ta palk        40\n",
      "8                     Lh palk        40\n",
      "9                     Sd palk        40\n",
      "10  Lehtpuu palk (Va, Ja, Kp)        35\n",
      "11                Ma peenpalk        64\n",
      "12                Ku peenpalk        64\n",
      "13              Ma paberipuit        62\n",
      "14              Ku paberipuit        62\n",
      "15              Ks paberipuit        50\n",
      "16              Hb paberipuit        50\n",
      "17                  Küttepuit        39\n",
      "18                    Jäätmed         3\n"
     ]
    }
   ],
   "source": [
    "import pandas as pd\n",
    "\n",
    "# Reading in EXCEL file for wood prices.\n",
    "wood_prices = pd.read_excel('Data_Sources/Wood_prices.xlsx')\n",
    "\n",
    "print(wood_prices)"
   ]
  },
  {
   "cell_type": "markdown",
   "id": "a4601cbd",
   "metadata": {},
   "source": [
    "### Reading in the JSON file for a specific cadastral."
   ]
  },
  {
   "cell_type": "code",
   "execution_count": 217,
   "id": "4d10e602",
   "metadata": {},
   "outputs": [
    {
     "name": "stdout",
     "output_type": "stream",
     "text": [
      "  Stand nr          Species  Height m  Diameter cm  Area ha  Volume m3/ha  \\\n",
      "0        3             Pine      15.8           20     0.55           185   \n",
      "1        3           Spruce       0.0            0     0.55             0   \n",
      "2        3            Birch       0.0            0     0.55             0   \n",
      "3        3  Other Deciduous       0.0            0     0.55             0   \n",
      "4        4             Pine      16.6           22     0.78           188   \n",
      "\n",
      "   Stock m3  \n",
      "0    101.75  \n",
      "1      0.00  \n",
      "2      0.00  \n",
      "3      0.00  \n",
      "4    146.64  \n"
     ]
    }
   ],
   "source": [
    "import json\n",
    "\n",
    "# Reading in JSON file for a specific cadastral.\n",
    "f = open('Data_Sources/response_1755862007859.json')\n",
    "d = json.load(f)\n",
    "e = d['stands']\n",
    "\n",
    "# Create an empty list to store the new, transformed data records.\n",
    "transformed_data_list = []\n",
    "# Loop through each individual record (which is a dictionary) in the list.\n",
    "for record in e:\n",
    "    # Extract the stand number for the current record.\n",
    "    stand_number = record[\"stand_number\"]\n",
    "    # Now you can safely access the values using keys from this single record.\n",
    "    # Create a list of dictionaries for each species in the current record.\n",
    "    species_data = [\n",
    "        {\n",
    "            \"Stand nr\": stand_number,\n",
    "            \"Species\": \"Pine\",\n",
    "            \"Height m\": record[\"pine_bam_height_m\"],\n",
    "            \"Diameter cm\": record[\"pine_bam_dbh_cm\"],\n",
    "            \"Area ha\": record[\"total_area_ha\"],\n",
    "            \"Volume m3/ha\": record[\"pine_total_volume_m3_ha\"],\n",
    "            \"Stock m3\": record[\"total_area_ha\"] * record[\"pine_total_volume_m3_ha\"]\n",
    "        },\n",
    "        {\n",
    "            \"Stand nr\": stand_number,\n",
    "            \"Species\": \"Spruce\",\n",
    "            \"Height m\": record[\"spruce_bam_height_m\"],\n",
    "            \"Diameter cm\": record[\"spruce_bam_dbh_cm\"],\n",
    "            \"Area ha\": record[\"total_area_ha\"],\n",
    "            \"Volume m3/ha\": record[\"spruce_total_volume_m3_ha\"],\n",
    "            \"Stock m3\": record[\"total_area_ha\"] * record[\"spruce_total_volume_m3_ha\"]\n",
    "        },\n",
    "        {\n",
    "            \"Stand nr\": stand_number,\n",
    "            \"Species\": \"Birch\",\n",
    "            \"Height m\": record[\"birch_bam_height_m\"],\n",
    "            \"Diameter cm\": record[\"birch_bam_dbh_cm\"],\n",
    "            \"Area ha\": record[\"total_area_ha\"],\n",
    "            \"Volume m3/ha\": record[\"birch_total_volume_m3_ha\"],\n",
    "            \"Stock m3\": record[\"total_area_ha\"] * record[\"birch_total_volume_m3_ha\"]\n",
    "        \n",
    "        },\n",
    "        {\n",
    "            \"Stand nr\": stand_number,\n",
    "            \"Species\": \"Other Deciduous\",\n",
    "            \"Height m\": record[\"other_deciduous_bam_height_m\"],\n",
    "            \"Diameter cm\": record[\"other_deciduous_bam_dbh_cm\"],\n",
    "            \"Area ha\": record[\"total_area_ha\"],\n",
    "            \"Volume m3/ha\": record[\"other_deciduous_total_volume_m3_ha\"],\n",
    "            \"Stock m3\": record[\"total_area_ha\"] * record[\"other_deciduous_total_volume_m3_ha\"],\n",
    "            \n",
    "        }\n",
    "    ]\n",
    "    # Add the newly created species data to our main list.\n",
    "    transformed_data_list.extend(species_data)\n",
    "# Finally, create a single DataFrame from the combined list of all records.\n",
    "JSON_cadastral_data = pd.DataFrame(transformed_data_list)\n",
    "print(JSON_cadastral_data.head())"
   ]
  },
  {
   "cell_type": "markdown",
   "id": "af37fefa",
   "metadata": {},
   "source": [
    "### Reading in EXCEL file for Tree Names."
   ]
  },
  {
   "cell_type": "code",
   "execution_count": 218,
   "id": "1395d43b",
   "metadata": {},
   "outputs": [
    {
     "name": "stdout",
     "output_type": "stream",
     "text": [
      "  Name_EE         Name_ENG\n",
      "0      MA             Pine\n",
      "1      KU           Spruce\n",
      "2      KS            Birch\n",
      "3      LV  Other Deciduous\n",
      "4      HB              NaN\n"
     ]
    }
   ],
   "source": [
    "# Reading in EXCEL file for Tree Names.\n",
    "Tree_Name = pd.read_excel('Data_Sources/Tree_Name_mapping.xlsx')\n",
    "\n",
    "print(Tree_Name.head())\n"
   ]
  },
  {
   "cell_type": "markdown",
   "id": "8841f988",
   "metadata": {},
   "source": [
    "### Reading in EXCEL file for relative height."
   ]
  },
  {
   "cell_type": "code",
   "execution_count": 219,
   "id": "d234f0f5",
   "metadata": {},
   "outputs": [
    {
     "name": "stdout",
     "output_type": "stream",
     "text": [
      "     d      MA     KU      KS      LV      HB      LM      TA      SA      VA  \\\n",
      "0    8  0.4300  0.350  0.5500  0.5500  0.5200  0.5200  0.3800  0.3800  0.3800   \n",
      "1    9  0.5000  0.410  0.6000  0.6000  0.5700  0.5700  0.4400  0.4400  0.4400   \n",
      "2   10  0.5500  0.470  0.6400  0.6400  0.6200  0.6200  0.5000  0.5000  0.5000   \n",
      "3   11  0.6100  0.530  0.6800  0.6800  0.6600  0.6600  0.5500  0.5500  0.5500   \n",
      "4   12  0.6500  0.580  0.7200  0.7200  0.7000  0.7000  0.6000  0.6000  0.6000   \n",
      "5   13  0.7000  0.630  0.7600  0.7600  0.7400  0.7400  0.6500  0.6500  0.6500   \n",
      "6   14  0.7400  0.680  0.7900  0.7900  0.7700  0.7700  0.7000  0.7000  0.7000   \n",
      "7   15  0.7700  0.720  0.8200  0.8200  0.8000  0.8000  0.7400  0.7400  0.7400   \n",
      "8   16  0.8100  0.760  0.8400  0.8400  0.8300  0.8300  0.7700  0.7700  0.7700   \n",
      "9   17  0.8400  0.800  0.8700  0.8700  0.8600  0.8600  0.8100  0.8100  0.8100   \n",
      "10  18  0.8700  0.830  0.8900  0.8900  0.8800  0.8800  0.8400  0.8400  0.8400   \n",
      "11  19  0.8900  0.860  0.9100  0.9100  0.9100  0.9100  0.8700  0.8700  0.8700   \n",
      "12  20  0.9200  0.890  0.9300  0.9300  0.9300  0.9300  0.9000  0.9000  0.9000   \n",
      "13  21  0.9400  0.920  0.9500  0.9500  0.9500  0.9500  0.9250  0.9250  0.9250   \n",
      "14  22  0.9600  0.950  0.9700  0.9700  0.9700  0.9700  0.9500  0.9500  0.9500   \n",
      "15  23  0.9800  0.975  0.9850  0.9850  0.9850  0.9850  0.9750  0.9750  0.9750   \n",
      "16  24  1.0000  1.000  1.0000  1.0000  1.0000  1.0000  1.0000  1.0000  1.0000   \n",
      "17  25  1.0150  1.020  1.0150  1.0150  1.0150  1.0150  1.0200  1.0200  1.0200   \n",
      "18  26  1.0300  1.040  1.0300  1.0300  1.0300  1.0300  1.0400  1.0400  1.0400   \n",
      "19  27  1.0450  1.060  1.0400  1.0400  1.0450  1.0450  1.0600  1.0600  1.0600   \n",
      "20  28  1.0600  1.080  1.0500  1.0500  1.0600  1.0600  1.0800  1.0800  1.0800   \n",
      "21  29  1.0750  1.100  1.0650  1.0650  1.0700  1.0700  1.0950  1.0950  1.0950   \n",
      "22  30  1.0900  1.120  1.0800  1.0800  1.0800  1.0800  1.1100  1.1100  1.1100   \n",
      "23  31  1.1050  1.135  1.0900  1.0900  1.0900  1.0900  1.1250  1.1250  1.1250   \n",
      "24  32  1.1200  1.150  1.1000  1.1000  1.1000  1.1000  1.1400  1.1400  1.1400   \n",
      "25  33  1.1300  1.165  1.1100  1.1100  1.1100  1.1100  1.1525  1.1525  1.1525   \n",
      "26  34  1.1400  1.180  1.1200  1.1200  1.1200  1.1200  1.1650  1.1650  1.1650   \n",
      "27  35  1.1500  1.195  1.1300  1.1300  1.1300  1.1300  1.1775  1.1775  1.1775   \n",
      "28  36  1.1600  1.210  1.1400  1.1400  1.1400  1.1400  1.1900  1.1900  1.1900   \n",
      "29  37  1.1675  1.220  1.1475  1.1475  1.1475  1.1475  1.2000  1.2000  1.2000   \n",
      "30  38  1.1750  1.230  1.1550  1.1550  1.1550  1.1550  1.2100  1.2100  1.2100   \n",
      "31  39  1.1825  1.240  1.1625  1.1625  1.1625  1.1625  1.2200  1.2200  1.2200   \n",
      "32  40  1.1900  1.250  1.1700  1.1700  1.1700  1.1700  1.2300  1.2300  1.2300   \n",
      "\n",
      "    ...      LH      SD     TS      JA      KP      RE      TM      PI  \\\n",
      "0   ...  0.4300  0.4300  0.350  0.3800  0.3800  0.5500  0.5500  0.5500   \n",
      "1   ...  0.5000  0.5000  0.410  0.4400  0.4400  0.6000  0.6000  0.6000   \n",
      "2   ...  0.5500  0.5500  0.470  0.5000  0.5000  0.6400  0.6400  0.6400   \n",
      "3   ...  0.6100  0.6100  0.530  0.5500  0.5500  0.6800  0.6800  0.6800   \n",
      "4   ...  0.6500  0.6500  0.580  0.6000  0.6000  0.7200  0.7200  0.7200   \n",
      "5   ...  0.7000  0.7000  0.630  0.6500  0.6500  0.7600  0.7600  0.7600   \n",
      "6   ...  0.7400  0.7400  0.680  0.7000  0.7000  0.7900  0.7900  0.7900   \n",
      "7   ...  0.7700  0.7700  0.720  0.7400  0.7400  0.8200  0.8200  0.8200   \n",
      "8   ...  0.8100  0.8100  0.760  0.7700  0.7700  0.8400  0.8400  0.8400   \n",
      "9   ...  0.8400  0.8400  0.800  0.8100  0.8100  0.8700  0.8700  0.8700   \n",
      "10  ...  0.8700  0.8700  0.830  0.8400  0.8400  0.8900  0.8900  0.8900   \n",
      "11  ...  0.8900  0.8900  0.860  0.8700  0.8700  0.9100  0.9100  0.9100   \n",
      "12  ...  0.9200  0.9200  0.890  0.9000  0.9000  0.9300  0.9300  0.9300   \n",
      "13  ...  0.9400  0.9400  0.920  0.9250  0.9250  0.9500  0.9500  0.9500   \n",
      "14  ...  0.9600  0.9600  0.950  0.9500  0.9500  0.9700  0.9700  0.9700   \n",
      "15  ...  0.9800  0.9800  0.975  0.9750  0.9750  0.9850  0.9850  0.9850   \n",
      "16  ...  1.0000  1.0000  1.000  1.0000  1.0000  1.0000  1.0000  1.0000   \n",
      "17  ...  1.0150  1.0150  1.020  1.0200  1.0200  1.0150  1.0150  1.0150   \n",
      "18  ...  1.0300  1.0300  1.040  1.0400  1.0400  1.0300  1.0300  1.0300   \n",
      "19  ...  1.0450  1.0450  1.060  1.0600  1.0600  1.0400  1.0400  1.0400   \n",
      "20  ...  1.0600  1.0600  1.080  1.0800  1.0800  1.0500  1.0500  1.0500   \n",
      "21  ...  1.0750  1.0750  1.100  1.0950  1.0950  1.0650  1.0650  1.0650   \n",
      "22  ...  1.0900  1.0900  1.120  1.1100  1.1100  1.0800  1.0800  1.0800   \n",
      "23  ...  1.1050  1.1050  1.135  1.1250  1.1250  1.0900  1.0900  1.0900   \n",
      "24  ...  1.1200  1.1200  1.150  1.1400  1.1400  1.1000  1.1000  1.1000   \n",
      "25  ...  1.1300  1.1300  1.165  1.1525  1.1525  1.1100  1.1100  1.1100   \n",
      "26  ...  1.1400  1.1400  1.180  1.1650  1.1650  1.1200  1.1200  1.1200   \n",
      "27  ...  1.1500  1.1500  1.195  1.1775  1.1775  1.1300  1.1300  1.1300   \n",
      "28  ...  1.1600  1.1600  1.210  1.1900  1.1900  1.1400  1.1400  1.1400   \n",
      "29  ...  1.1675  1.1675  1.220  1.2000  1.2000  1.1475  1.1475  1.1475   \n",
      "30  ...  1.1750  1.1750  1.230  1.2100  1.2100  1.1550  1.1550  1.1550   \n",
      "31  ...  1.1825  1.1825  1.240  1.2200  1.2200  1.1625  1.1625  1.1625   \n",
      "32  ...  1.1900  1.1900  1.250  1.2300  1.2300  1.1700  1.1700  1.1700   \n",
      "\n",
      "        TO      TL  \n",
      "0   0.4300  0.5500  \n",
      "1   0.5000  0.6000  \n",
      "2   0.5500  0.6400  \n",
      "3   0.6100  0.6800  \n",
      "4   0.6500  0.7200  \n",
      "5   0.7000  0.7600  \n",
      "6   0.7400  0.7900  \n",
      "7   0.7700  0.8200  \n",
      "8   0.8100  0.8400  \n",
      "9   0.8400  0.8700  \n",
      "10  0.8700  0.8900  \n",
      "11  0.8900  0.9100  \n",
      "12  0.9200  0.9300  \n",
      "13  0.9400  0.9500  \n",
      "14  0.9600  0.9700  \n",
      "15  0.9800  0.9850  \n",
      "16  1.0000  1.0000  \n",
      "17  1.0150  1.0150  \n",
      "18  1.0300  1.0300  \n",
      "19  1.0450  1.0400  \n",
      "20  1.0600  1.0500  \n",
      "21  1.0750  1.0650  \n",
      "22  1.0900  1.0800  \n",
      "23  1.1050  1.0900  \n",
      "24  1.1200  1.1000  \n",
      "25  1.1300  1.1100  \n",
      "26  1.1400  1.1200  \n",
      "27  1.1500  1.1300  \n",
      "28  1.1600  1.1400  \n",
      "29  1.1675  1.1475  \n",
      "30  1.1750  1.1550  \n",
      "31  1.1825  1.1625  \n",
      "32  1.1900  1.1700  \n",
      "\n",
      "[33 rows x 23 columns]\n"
     ]
    }
   ],
   "source": [
    "# Reading in EXCEL file for relative height.\n",
    "h24_coefficient = pd.read_excel('Data_Sources/h24_coefficient.xlsx')\n",
    "\n",
    "print(h24_coefficient)\n"
   ]
  },
  {
   "cell_type": "markdown",
   "id": "32cacd73",
   "metadata": {},
   "source": [
    "### Reading in EXCEL file for type proportions"
   ]
  },
  {
   "cell_type": "code",
   "execution_count": 220,
   "id": "6318c64c",
   "metadata": {},
   "outputs": [
    {
     "name": "stdout",
     "output_type": "stream",
     "text": [
      "     d klass+pl+h24 x m  kõrgus      palk     peenp     paber      küte  \\\n",
      "0                 8MA16     8.0  0.000000  0.000000  0.000000  0.500000   \n",
      "1                12MA16    11.0  0.000000  0.000000  0.714286  0.000000   \n",
      "2                16MA16    13.0  0.000000  0.333333  0.400000  0.000000   \n",
      "3                20MA16    15.0  0.000000  0.680000  0.080000  0.000000   \n",
      "4                24MA16    16.0  0.289474  0.368421  0.105263  0.000000   \n",
      "...                 ...     ...       ...       ...       ...       ...   \n",
      "3205             36PN27    32.0  0.000000  0.000000  0.000000  0.794521   \n",
      "3206             40PN27    33.0  0.000000  0.000000  0.000000  0.795699   \n",
      "3207             44PN27    34.0  0.000000  0.000000  0.000000  0.800000   \n",
      "3208             48PN27    35.0  0.000000  0.000000  0.000000  0.806452   \n",
      "3209             52PN27    35.0  0.000000  0.000000  0.000000  0.804805   \n",
      "\n",
      "       jäätmed  kokku  \n",
      "0     0.500000    1.0  \n",
      "1     0.285714    1.0  \n",
      "2     0.266667    1.0  \n",
      "3     0.240000    1.0  \n",
      "4     0.236842    1.0  \n",
      "...        ...    ...  \n",
      "3205  0.205479    1.0  \n",
      "3206  0.204301    1.0  \n",
      "3207  0.200000    1.0  \n",
      "3208  0.193548    1.0  \n",
      "3209  0.195195    1.0  \n",
      "\n",
      "[3210 rows x 8 columns]\n"
     ]
    }
   ],
   "source": [
    "# Reading in EXCEL file for type proportions.\n",
    "Type_proportions = pd.read_excel('Data_Sources/Type_proportions.xlsx')\n",
    "\n",
    "print(Type_proportions)"
   ]
  },
  {
   "cell_type": "markdown",
   "id": "344ba881",
   "metadata": {},
   "source": [
    "### Merging tables JSON_cadastral_data and Tree_Name."
   ]
  },
  {
   "cell_type": "code",
   "execution_count": 221,
   "id": "13849050",
   "metadata": {},
   "outputs": [],
   "source": [
    "# Merging two tables on main species names and adding Name_EE, Name_ENG.\n",
    "cadastral_data = pd.merge(JSON_cadastral_data, Tree_Name, left_on='Species', right_on='Name_ENG', how='left')"
   ]
  },
  {
   "cell_type": "markdown",
   "id": "2658eb50",
   "metadata": {},
   "source": [
    "### Adding a 'h24 coefficient' and 'h24' column to the table."
   ]
  },
  {
   "cell_type": "code",
   "execution_count": 222,
   "id": "ad5900d5",
   "metadata": {},
   "outputs": [],
   "source": [
    "import numpy as np\n",
    "\n",
    "cadastral_data['h24 coefficient'] = np.nan\n",
    "\n",
    "for index, row in cadastral_data.iterrows():\n",
    "    name_ee = row['Name_EE']\n",
    "    diameter_cm = row['Diameter cm']\n",
    "    try:\n",
    "        # Look up the correct value from h24_coefficient table.\n",
    "        h24_value = h24_coefficient.loc[h24_coefficient['d'] == diameter_cm, name_ee]\n",
    "        # When the value is found add it to the column \n",
    "        if not h24_value.empty:\n",
    "            cadastral_data.at[index, 'h24 coefficient'] = h24_value.values[0]\n",
    "    except KeyError:\n",
    "        # When there isn´t a value add NaN to the row\n",
    "        pass\n",
    "\n",
    "# Adding a 'h24' column to the table.\n",
    "cadastral_data['h24'] = cadastral_data.apply(\n",
    "    lambda row: 16 if (pd.notna(row['Height m']) and pd.notna(row['h24 coefficient']) and row['h24 coefficient'] != 0 and (np.ceil(row['Height m'] / row['h24 coefficient'])) < 16) else (int(np.ceil(row['Height m'] / row['h24 coefficient'])) if pd.notna(row['Height m']) and pd.notna(row['h24 coefficient']) and row['h24 coefficient'] != 0 else np.nan),\n",
    "    axis=1)\n",
    "#\n",
    "cadastral_data['h24'] = cadastral_data['h24'].astype('Int64')"
   ]
  },
  {
   "cell_type": "markdown",
   "id": "452f657f",
   "metadata": {},
   "source": [
    "### Adding a 'Diameter category' column to the table"
   ]
  },
  {
   "cell_type": "code",
   "execution_count": 223,
   "id": "5dd2aba7",
   "metadata": {},
   "outputs": [],
   "source": [
    "# Adding a 'Diameter category' column to the table.\n",
    "def diameter_category(diameter_cm):\n",
    "    if 5 <= diameter_cm <= 52:\n",
    "        # Round up to the nearest multiple of 4 (aligned with 8, 12, 16, …, 52)\n",
    "        return ((diameter_cm + 3) // 4) * 4\n",
    "    return None\n",
    "cadastral_data['Diameter category'] = (\n",
    "    cadastral_data['Diameter cm']\n",
    "    .apply(diameter_category)# Using .apply() to use the function on 'Diameter cm' values.\n",
    "    .astype('Int64')# Getting 'Diameter category' column to Int64 type.\n",
    ")"
   ]
  },
  {
   "cell_type": "markdown",
   "id": "25127bfc",
   "metadata": {},
   "source": [
    "### Adding a 'Proportion class' column to the table"
   ]
  },
  {
   "cell_type": "code",
   "execution_count": 224,
   "id": "11a902bc",
   "metadata": {},
   "outputs": [],
   "source": [
    "cadastral_data['Proportion class'] = cadastral_data['Diameter category'].astype(str) + '' + cadastral_data['Name_EE'].astype(str) + '' + cadastral_data['h24'].astype(str)"
   ]
  },
  {
   "cell_type": "markdown",
   "id": "8e5af4f0",
   "metadata": {},
   "source": [
    "### Merging Type_proportions with cadastral_data on 'Proportion class' to get the type proportions."
   ]
  },
  {
   "cell_type": "code",
   "execution_count": 225,
   "id": "0c29c8e6",
   "metadata": {},
   "outputs": [
    {
     "name": "stdout",
     "output_type": "stream",
     "text": [
      "  Stand nr Species  Height m  Diameter cm  Area ha  Volume m3/ha  Stock m3  \\\n",
      "0        3    Pine      15.8           20     0.55           185    101.75   \n",
      "1        4    Pine      16.6           22     0.78           188    146.64   \n",
      "2        6    Pine      13.7           19     0.25           133     33.25   \n",
      "\n",
      "  Name_EE  h24 coefficient  h24  Diameter category Proportion class    palk  \\\n",
      "0      MA             0.92   18                 20           20MA18   0.000   \n",
      "1      MA             0.96   18                 24           24MA18  40.326   \n",
      "2      MA             0.89   16                 20           20MA16   0.000   \n",
      "\n",
      "       peenp      paber   küte    jäätmed  \n",
      "0  66.528846  11.740385  0.000  23.480769  \n",
      "1  65.988000   0.000000  7.332  32.994000  \n",
      "2  22.610000   2.660000  0.000   7.980000  \n"
     ]
    }
   ],
   "source": [
    "cadastral_data = pd.merge(cadastral_data, \n",
    "                     Type_proportions, \n",
    "                     left_on='Proportion class', \n",
    "                     right_on='d klass+pl+h24 x m', \n",
    "                     how='inner')\n",
    "\n",
    "# Calculating proportions for each row\n",
    "columns_to_multiply = ['palk', 'peenp', 'paber', 'küte', 'jäätmed']\n",
    "\n",
    "# A loop that multiplys type proportion columns by 'Stock m3' column values.\n",
    "for column in columns_to_multiply:\n",
    "    cadastral_data[column] = cadastral_data[column] * cadastral_data['Stock m3']\n",
    "\n",
    "# Dropping unnecessary columns from the table.\n",
    "cadastral_data = cadastral_data.drop(columns=['d klass+pl+h24 x m', 'kõrgus', 'kokku','Name_ENG'])\n",
    "\n",
    "print(cadastral_data)"
   ]
  },
  {
   "cell_type": "markdown",
   "id": "5c7fabc8",
   "metadata": {},
   "source": [
    "### Creating a new dataframe to sum up 'Maht' and 'Hind'"
   ]
  },
  {
   "cell_type": "code",
   "execution_count": 226,
   "id": "7a33865b",
   "metadata": {},
   "outputs": [
    {
     "name": "stdout",
     "output_type": "stream",
     "text": [
      "                   Sortiment  Maht (tm)        €\n",
      "0                    Ma palk       40.3   3831.0\n",
      "1                    Ku palk        0.0      0.0\n",
      "2               Ks palk/pakk        0.0      0.0\n",
      "3      Teised liigid/Lv palk        0.0      0.0\n",
      "4                Ma peenpalk      155.1   9928.1\n",
      "5                Ku peenpalk        0.0      0.0\n",
      "6              Ma paberipuit       14.4    892.8\n",
      "7              Ku paberipuit        0.0      0.0\n",
      "8              Ks paberipuit        0.0      0.0\n",
      "9   Teised liigid paberipuit        0.0      0.0\n",
      "10                 Küttepuit        7.3    285.9\n",
      "11                   Jäätmed       64.5    193.4\n",
      "12                     Kokku      281.6  15131.2\n"
     ]
    }
   ],
   "source": [
    "# Creating a new DataFrame with the required data.\n",
    "data = {\n",
    "    'Sortiment': [\n",
    "        'Ma palk', 'Ku palk', 'Ks palk/pakk', 'Teised liigid/Lv palk',\n",
    "        'Ma peenpalk', 'Ku peenpalk',\n",
    "        'Ma paberipuit', 'Ku paberipuit', 'Ks paberipuit', 'Teised liigid paberipuit',\n",
    "        'Küttepuit', 'Jäätmed', 'Kokku'\n",
    "    ],\n",
    "    'Maht (tm)': [\n",
    "        cadastral_data.loc[cadastral_data['Name_EE'] == 'MA', 'palk'].sum(),\n",
    "        cadastral_data.loc[cadastral_data['Name_EE'] == 'KU', 'palk'].sum(),\n",
    "        cadastral_data.loc[cadastral_data['Name_EE'] == 'KS', 'palk'].sum(),\n",
    "        cadastral_data.loc[cadastral_data['Name_EE'] == 'LV', 'palk'].sum(),\n",
    "        cadastral_data.loc[cadastral_data['Name_EE'] == 'MA', 'peenp'].sum(),\n",
    "        cadastral_data.loc[cadastral_data['Name_EE'] == 'KU', 'peenp'].sum(),\n",
    "        cadastral_data.loc[cadastral_data['Name_EE'] == 'MA', 'paber'].sum(),\n",
    "        cadastral_data.loc[cadastral_data['Name_EE'] == 'KU', 'paber'].sum(),\n",
    "        cadastral_data.loc[cadastral_data['Name_EE'] == 'KS', 'paber'].sum(),\n",
    "        cadastral_data.loc[cadastral_data['Name_EE'] == 'LV', 'paber'].sum(),\n",
    "        cadastral_data['küte'].sum(),\n",
    "        cadastral_data['jäätmed'].sum(),\n",
    "        0 # Placeholder for 'Kokku' row\n",
    "    ],\n",
    "    '€': [None]*13\n",
    "}\n",
    "# Calculating the 'Kokku' row\n",
    "data['Maht (tm)'][-1] = sum(data['Maht (tm)'][:-1])\n",
    "# Create DataFrame\n",
    "MahtHindKokku = pd.DataFrame(data)\n",
    "# Price correspondence\n",
    "sortimentid = [\n",
    "    'Ma palk', 'Ku palk', 'Ks palk/pakk', 'Teised liigid/Lv palk',\n",
    "    'Ma peenpalk', 'Ku peenpalk',\n",
    "    'Ma paberipuit', 'Ku paberipuit', 'Ks paberipuit', 'Teised liigid paberipuit',\n",
    "    'Küttepuit', 'Jäätmed'\n",
    "]\n",
    "hinnanimed = [\n",
    "    'Ma palk', 'Ku palk', 'Ks palk/pakk', 'Lv palk',\n",
    "    'Ma peenpalk', 'Ku peenpalk',\n",
    "    'Ma paberipuit', 'Ku paberipuit', 'Ks paberipuit', 'Hb paberipuit',\n",
    "    'Küttepuit', 'Jäätmed'\n",
    "]\n",
    "# Find prices from wood_prices table\n",
    "hindad = [\n",
    "    wood_prices.loc[wood_prices['Sortiment'] == hinnanimed[i], 'Hind (€)'].values[0]\n",
    "    for i in range(len(hinnanimed))\n",
    "]\n",
    "# Calculate € values\n",
    "e_vaartused = [\n",
    "    MahtHindKokku.loc[MahtHindKokku['Sortiment'] == sortimentid[i], 'Maht (tm)'].values[0] * hindad[i]\n",
    "    for i in range(len(sortimentid))\n",
    "]\n",
    "# Adding the calculated € values to the DataFrame\n",
    "MahtHindKokku.loc[:11, '€'] = e_vaartused\n",
    "# Kokku row\n",
    "MahtHindKokku.loc[12, '€'] = sum(e_vaartused)\n",
    "\n",
    "MahtHindKokku['Maht (tm)'] = pd.to_numeric(MahtHindKokku['Maht (tm)'], errors='coerce').round(1)\n",
    "MahtHindKokku['€'] = pd.to_numeric(MahtHindKokku['€'], errors='coerce').round(1)\n",
    "print(MahtHindKokku)\n"
   ]
  },
  {
   "cell_type": "code",
   "execution_count": 227,
   "id": "76a6f372",
   "metadata": {},
   "outputs": [
    {
     "name": "stdout",
     "output_type": "stream",
     "text": [
      "                   Sortiment  Maht (tm)        €\n",
      "0                    Ma palk       40.3   3831.0\n",
      "1                    Ku palk        0.0      0.0\n",
      "2               Ks palk/pakk        0.0      0.0\n",
      "3      Teised liigid/Lv palk        0.0      0.0\n",
      "4                Ma peenpalk      155.1   9928.1\n",
      "5                Ku peenpalk        0.0      0.0\n",
      "6              Ma paberipuit       14.4    892.8\n",
      "7              Ku paberipuit        0.0      0.0\n",
      "8              Ks paberipuit        0.0      0.0\n",
      "9   Teised liigid paberipuit        0.0      0.0\n",
      "10                 Küttepuit        7.3    285.9\n",
      "11                   Jäätmed       64.5    193.4\n",
      "12                     Kokku      281.6  15131.2\n"
     ]
    }
   ],
   "source": [
    "# Define the mapping between Sortiment, source (Name_EE + column), and price names\n",
    "mappings = [\n",
    "    (\"Ma palk\",        (\"MA\", \"palk\"),   \"Ma palk\"),\n",
    "    (\"Ku palk\",        (\"KU\", \"palk\"),   \"Ku palk\"),\n",
    "    (\"Ks palk/pakk\",   (\"KS\", \"palk\"),   \"Ks palk/pakk\"),\n",
    "    (\"Teised liigid/Lv palk\", (\"LV\", \"palk\"), \"Lv palk\"),\n",
    "    (\"Ma peenpalk\",    (\"MA\", \"peenp\"),  \"Ma peenpalk\"),\n",
    "    (\"Ku peenpalk\",    (\"KU\", \"peenp\"),  \"Ku peenpalk\"),\n",
    "    (\"Ma paberipuit\",  (\"MA\", \"paber\"),  \"Ma paberipuit\"),\n",
    "    (\"Ku paberipuit\",  (\"KU\", \"paber\"),  \"Ku paberipuit\"),\n",
    "    (\"Ks paberipuit\",  (\"KS\", \"paber\"),  \"Ks paberipuit\"),\n",
    "    (\"Teised liigid paberipuit\", (\"LV\", \"paber\"), \"Hb paberipuit\"),\n",
    "    (\"Küttepuit\",      (None, \"küte\"),   \"Küttepuit\"),\n",
    "    (\"Jäätmed\",        (None, \"jäätmed\"),\"Jäätmed\"),\n",
    "]\n",
    "rows = []\n",
    "for sortiment, (name_ee, col), price_name in mappings:\n",
    "    if name_ee:  # sum by Name_EE + column\n",
    "        volume = cadastral_data.loc[cadastral_data[\"Name_EE\"] == name_ee, col].sum()\n",
    "    else:        # global sum\n",
    "        volume = cadastral_data[col].sum()\n",
    "    # find matching price\n",
    "    price = wood_prices.loc[wood_prices[\"Sortiment\"] == price_name, \"Hind (€)\"].squeeze()\n",
    "    rows.append({\n",
    "        \"Sortiment\": sortiment,\n",
    "        \"Maht (tm)\": volume,\n",
    "        \"€\": volume * price\n",
    "    })\n",
    "# Create DataFrame\n",
    "MahtHindKokku = pd.DataFrame(rows)\n",
    "# Add total row\n",
    "MahtHindKokku.loc[len(MahtHindKokku)] = {\n",
    "    \"Sortiment\": \"Kokku\",\n",
    "    \"Maht (tm)\": MahtHindKokku[\"Maht (tm)\"].sum(),\n",
    "    \"€\": MahtHindKokku[\"€\"].sum()\n",
    "}\n",
    "# Round results\n",
    "MahtHindKokku[\"Maht (tm)\"] = MahtHindKokku[\"Maht (tm)\"].round(1)\n",
    "MahtHindKokku[\"€\"] = MahtHindKokku[\"€\"].round(1)\n",
    "print(MahtHindKokku)"
   ]
  },
  {
   "cell_type": "markdown",
   "id": "c1d041bf",
   "metadata": {},
   "source": [
    "### Creating a new dataframe to get recommended starting bid"
   ]
  },
  {
   "cell_type": "code",
   "execution_count": 228,
   "id": "db38f536",
   "metadata": {},
   "outputs": [
    {
     "name": "stdout",
     "output_type": "stream",
     "text": [
      "                          Väärtus Ühik\n",
      "Maht kokku                  281.6   tm\n",
      "Hind kokku                15131.2    €\n",
      "Kulud (jäätmeteta)         4559.1    €\n",
      "Tulud-kulud (jäätmeteta)  10572.1    €\n",
      "Soovituslik alghind        9514.9    €\n"
     ]
    }
   ],
   "source": [
    "# Extract key values\n",
    "maht_kokku = MahtHindKokku.at[MahtHindKokku.index[MahtHindKokku['Sortiment'] == 'Kokku'][0], 'Maht (tm)']\n",
    "hind_kokku = MahtHindKokku.at[MahtHindKokku.index[MahtHindKokku['Sortiment'] == 'Kokku'][0], '€']\n",
    "maht_jaatmeteta = MahtHindKokku.loc[\n",
    "    ~MahtHindKokku['Sortiment'].isin(['Jäätmed', 'Kokku']),\n",
    "    'Maht (tm)'\n",
    "].sum()\n",
    "# Calculations\n",
    "kulud_tm = Kulud[\"Kompleksteenus(€/tm)\"] + Kulud[\"Transport (€/tm)\"]\n",
    "kulud_jaatmeteta = maht_jaatmeteta * kulud_tm\n",
    "tulud_kulud_jaatmeteta = hind_kokku - kulud_jaatmeteta\n",
    "soovituslik_alghind = tulud_kulud_jaatmeteta * (1 - Kulud[\"Alghinna(%)\"] / 100)\n",
    "# Build result table\n",
    "results = {\n",
    "    \"Maht kokku\":              (maht_kokku, \"tm\"),\n",
    "    \"Hind kokku\":              (hind_kokku, \"€\"),\n",
    "    \"Kulud (jäätmeteta)\":      (kulud_jaatmeteta, \"€\"),\n",
    "    \"Tulud-kulud (jäätmeteta)\":(tulud_kulud_jaatmeteta, \"€\"),\n",
    "    \"Soovituslik alghind\":     (soovituslik_alghind, \"€\"),\n",
    "}\n",
    "cadastral_data_summary = (\n",
    "    pd.DataFrame.from_dict(results, orient=\"index\", columns=[\"Väärtus\", \"Ühik\"])\n",
    "    .assign(Väärtus=lambda df: df[\"Väärtus\"].round(1))\n",
    ")\n",
    "print(cadastral_data_summary)"
   ]
  }
 ],
 "metadata": {
  "kernelspec": {
   "display_name": "Python 3",
   "language": "python",
   "name": "python3"
  },
  "language_info": {
   "codemirror_mode": {
    "name": "ipython",
    "version": 3
   },
   "file_extension": ".py",
   "mimetype": "text/x-python",
   "name": "python",
   "nbconvert_exporter": "python",
   "pygments_lexer": "ipython3",
   "version": "3.13.7"
  }
 },
 "nbformat": 4,
 "nbformat_minor": 5
}
