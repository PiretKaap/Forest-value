{
 "cells": [
  {
   "cell_type": "markdown",
   "id": "a7f0d3ae",
   "metadata": {},
   "source": [
    "### Defining costs"
   ]
  },
  {
   "cell_type": "code",
   "execution_count": 5,
   "id": "086f796a",
   "metadata": {},
   "outputs": [],
   "source": [
    "kulud = {\n",
    "  \"Kompleksteenus(€/tm)\": 15,\n",
    "  \"Transport (€/tm)\": 6,\n",
    "  \"Alghinna(%)\": 10\n",
    "} "
   ]
  },
  {
   "cell_type": "markdown",
   "id": "025a8374",
   "metadata": {},
   "source": [
    "### Reading in EXCEL file for wood prices."
   ]
  },
  {
   "cell_type": "code",
   "execution_count": 6,
   "id": "ec48e560",
   "metadata": {},
   "outputs": [
    {
     "name": "stdout",
     "output_type": "stream",
     "text": [
      "Hinnakiri:\n",
      "                    Sortiment  Hind (€/tm)\n",
      "0                     Ma palk           95\n",
      "1                     Ku palk           95\n",
      "2                Ks palk/pakk          110\n",
      "3                     Hb palk           58\n",
      "4                     Lm palk           60\n",
      "5                     Lv palk           50\n",
      "6                     Sa palk           40\n",
      "7                     Ta palk           40\n",
      "8                     Lh palk           40\n",
      "9                     Sd palk           40\n",
      "10  Lehtpuu palk (Va, Ja, Kp)           35\n",
      "11                Ma peenpalk           64\n",
      "12                Ku peenpalk           64\n",
      "13              Ma paberipuit           62\n",
      "14              Ku paberipuit           62\n",
      "15              Ks paberipuit           50\n",
      "16              Hb paberipuit           50\n",
      "17                  Küttepuit           39\n",
      "18                    Jäätmed            3\n"
     ]
    }
   ],
   "source": [
    "import pandas as pd\n",
    "\n",
    "# Reading in EXCEL file for wood prices.\n",
    "wood_prices = pd.read_excel('Data_Sources/Hinnakiri.xlsx')\n",
    "\n",
    "print(\"Hinnakiri:\")\n",
    "print(wood_prices)"
   ]
  },
  {
   "cell_type": "code",
   "execution_count": 7,
   "id": "785c11ac",
   "metadata": {},
   "outputs": [
    {
     "name": "stdout",
     "output_type": "stream",
     "text": [
      "HTTP Error: 401 Client Error: Unauthorized for url: https://lindaforest.collectivecrunch.net/api/v1/auth\n",
      "Response content: {\"errorCode\":\"unathorized\",\"status\":401,\"name\":\"UnauthorizedError\",\"message\":\"error.apiKey.invalid\"}\n"
     ]
    }
   ],
   "source": [
    "import requests\n",
    "import json\n",
    "from urllib.parse import quote\n",
    "\n",
    "# Authorization API endpoint\n",
    "auth_url = \"https://lindaforest.collectivecrunch.net/api/v1/auth\"\n",
    "\n",
    "# Authorization headers with API keys\n",
    "headers = {\n",
    "    'linda-universal-api-key-id': '',\n",
    "    'linda-universal-api-key-secret': ''\n",
    "}\n",
    "\n",
    "try:\n",
    "    # Send POST request with authorization headers\n",
    "    auth_response = requests.post(auth_url, headers=headers, timeout=30)\n",
    "    auth_response.raise_for_status()  # Gives out error if authorization fails\n",
    "    auth_token = auth_response.json()['accessToken']\n",
    "    print(\"Authorization successful.\")\n",
    "\n",
    "    # ---- SIMPLE VARIABLES (change here) ----\n",
    "    country = \"ee\"                   # 'ee' or 'lv'\n",
    "    property_id = \"33801:001:1133\"   # katastritunnus (':' kodeeritakse automaatselt)\n",
    "\n",
    "    include_stands = True            # include stands\n",
    "    include_predictions = True      # include predictions\n",
    "    include_geometries = False       # include geometries (EPSG:4326)\n",
    "    # ---------------------------------------\n",
    "\n",
    "    # Build endpoint and query parameters\n",
    "    base = \"https://lindaforest.collectivecrunch.net/api/v1\"\n",
    "    property_encoded = quote(property_id, safe=\"\")\n",
    "    endpoint = f\"{base}/scout/{country}/property/{property_encoded}\"\n",
    "\n",
    "    # API is waiting for 'true'/'false' string\n",
    "    params = {\n",
    "        \"include_stands\": str(include_stands).lower(),\n",
    "        \"include_predictions\": str(include_predictions).lower(),\n",
    "        \"include_geometries\": str(include_geometries).lower(),\n",
    "    }\n",
    "\n",
    "    # To get the data use Bearer token\n",
    "    data_headers = {\n",
    "        'Authorization': f'Bearer {auth_token}',\n",
    "        'Accept': 'application/json'\n",
    "    }\n",
    "\n",
    "    # Get the data\n",
    "    data_response = requests.get(endpoint, headers=data_headers, params=params, timeout=60)\n",
    "    print(\"Request URL:\", data_response.url)  # See the exact URL with parameters\n",
    "    data_response.raise_for_status()  # Gives out error if data request fails\n",
    "    data = data_response.json()\n",
    "    print(\"Data successfully retrieved:\", json.dumps(data, indent=2, ensure_ascii=False))\n",
    "\n",
    "except requests.exceptions.HTTPError as err:\n",
    "    print(f\"HTTP Error: {err}\")\n",
    "    if err.response is not None:\n",
    "        print(f\"Response content: {err.response.text}\")\n",
    "except requests.exceptions.RequestException as err:\n",
    "    print(f\"Unexpected error: {err}\")"
   ]
  },
  {
   "cell_type": "markdown",
   "id": "91237505",
   "metadata": {},
   "source": [
    "### Reading in the API file for a specific cadastral."
   ]
  },
  {
   "cell_type": "code",
   "execution_count": 8,
   "id": "01f270e2",
   "metadata": {},
   "outputs": [
    {
     "ename": "NameError",
     "evalue": "name 'data' is not defined",
     "output_type": "error",
     "traceback": [
      "\u001b[31m---------------------------------------------------------------------------\u001b[39m",
      "\u001b[31mNameError\u001b[39m                                 Traceback (most recent call last)",
      "\u001b[36mCell\u001b[39m\u001b[36m \u001b[39m\u001b[32mIn[8]\u001b[39m\u001b[32m, line 4\u001b[39m\n\u001b[32m      1\u001b[39m \u001b[38;5;28;01mimport\u001b[39;00m\u001b[38;5;250m \u001b[39m\u001b[34;01mjson\u001b[39;00m\n\u001b[32m      3\u001b[39m \u001b[38;5;66;03m# Reading in JSON file for a specific cadastral.\u001b[39;00m\n\u001b[32m----> \u001b[39m\u001b[32m4\u001b[39m e = \u001b[43mdata\u001b[49m[\u001b[33m'\u001b[39m\u001b[33mstands\u001b[39m\u001b[33m'\u001b[39m]\n\u001b[32m      6\u001b[39m \u001b[38;5;66;03m# Create an empty list to store the new, transformed data records.\u001b[39;00m\n\u001b[32m      7\u001b[39m transformed_data_list = []\n",
      "\u001b[31mNameError\u001b[39m: name 'data' is not defined"
     ]
    }
   ],
   "source": [
    "import json\n",
    "\n",
    "# Reading in JSON file for a specific cadastral.\n",
    "e = data['stands']\n",
    "\n",
    "# Create an empty list to store the new, transformed data records.\n",
    "transformed_data_list = []\n",
    "# Loop through each individual record (which is a dictionary) in the list.\n",
    "for record in e:\n",
    "    # Extract the stand number for the current record.\n",
    "    stand_number = record[\"stand_number\"]\n",
    "    # Now you can safely access the values using keys from this single record.\n",
    "    # Create a list of dictionaries for each species in the current record.\n",
    "    species_data = [\n",
    "        {\n",
    "            \"Eraldise nr\": stand_number,\n",
    "            \"Puuliik\": \"Pine\",\n",
    "            \"Kõrgus m\": record[\"pine_bam_height_m\"],\n",
    "            \"Diameeter cm\": record[\"pine_bam_dbh_cm\"],\n",
    "            \"Pindala ha\": record[\"total_area_ha\"],\n",
    "            \"Tihedus m3/ha\": record[\"pine_total_volume_m3_ha\"],\n",
    "            \"Tagavara m3\": record[\"total_area_ha\"] * (record[\"pine_total_volume_m3_ha\"] or 0)\n",
    "        },\n",
    "        {\n",
    "            \"Eraldise nr\": stand_number,\n",
    "            \"Puuliik\": \"Spruce\",\n",
    "            \"Kõrgus m\": record[\"spruce_bam_height_m\"],\n",
    "            \"Diameeter cm\": record[\"spruce_bam_dbh_cm\"],\n",
    "            \"Pindala ha\": record[\"total_area_ha\"],\n",
    "            \"Tihedus m3/ha\": record[\"spruce_total_volume_m3_ha\"],\n",
    "            \"Tagavara m3\": record[\"total_area_ha\"] * (record[\"spruce_total_volume_m3_ha\"] or 0)\n",
    "        },\n",
    "        {\n",
    "            \"Eraldise nr\": stand_number,\n",
    "            \"Puuliik\": \"Birch\",\n",
    "            \"Kõrgus m\": record[\"birch_bam_height_m\"],\n",
    "            \"Diameeter cm\": record[\"birch_bam_dbh_cm\"],\n",
    "            \"Pindala ha\": record[\"total_area_ha\"],\n",
    "            \"Tihedus m3/ha\": record[\"birch_total_volume_m3_ha\"],\n",
    "            \"Tagavara m3\": record[\"total_area_ha\"] * (record[\"birch_total_volume_m3_ha\"] or 0)\n",
    "        \n",
    "        },\n",
    "        {\n",
    "            \"Eraldise nr\": stand_number,\n",
    "            \"Puuliik\": \"Other Deciduous\",\n",
    "            \"Kõrgus m\": record[\"other_deciduous_bam_height_m\"],\n",
    "            \"Diameeter cm\": record[\"other_deciduous_bam_dbh_cm\"],\n",
    "            \"Pindala ha\": record[\"total_area_ha\"],\n",
    "            \"Tihedus m3/ha\": record[\"other_deciduous_total_volume_m3_ha\"],\n",
    "            \"Tagavara m3\": record[\"total_area_ha\"] * (record[\"other_deciduous_total_volume_m3_ha\"] or 0),\n",
    "            \n",
    "        }\n",
    "    ]\n",
    "    # Add the newly created species data to our main list.\n",
    "    transformed_data_list.extend(species_data)\n",
    "# Finally, create a single DataFrame from the combined list of all records.\n",
    "API_cadastral_data = pd.DataFrame(transformed_data_list)\n",
    "print(API_cadastral_data)"
   ]
  },
  {
   "cell_type": "markdown",
   "id": "8b504427",
   "metadata": {},
   "source": [
    "### Reading in EXCEL file for tree names."
   ]
  },
  {
   "cell_type": "code",
   "execution_count": null,
   "id": "ba0645b5",
   "metadata": {},
   "outputs": [
    {
     "name": "stdout",
     "output_type": "stream",
     "text": [
      "Puude nimetused EE/ENG:\n",
      "  Name_EE         Name_ENG\n",
      "0      MA             Pine\n",
      "1      KU           Spruce\n",
      "2      KS            Birch\n",
      "3      LV  Other Deciduous\n",
      "4      HB              NaN\n"
     ]
    }
   ],
   "source": [
    "# Reading in EXCEL file for tree names.\n",
    "tree_name = pd.read_excel('Data_Sources/Puu_nimetused_EE_ENG.xlsx')\n",
    "\n",
    "print(\"Puude nimetused EE/ENG:\")\n",
    "print(tree_name.head())\n"
   ]
  },
  {
   "cell_type": "markdown",
   "id": "6af93918",
   "metadata": {},
   "source": [
    "### Reading in EXCEL file for relative heights."
   ]
  },
  {
   "cell_type": "code",
   "execution_count": null,
   "id": "4547f669",
   "metadata": {},
   "outputs": [
    {
     "name": "stdout",
     "output_type": "stream",
     "text": [
      "Suhtelised tugikõrgused:\n",
      "     d      MA     KU      KS      LV      HB      LM      TA      SA      VA  \\\n",
      "0    8  0.4300  0.350  0.5500  0.5500  0.5200  0.5200  0.3800  0.3800  0.3800   \n",
      "1    9  0.5000  0.410  0.6000  0.6000  0.5700  0.5700  0.4400  0.4400  0.4400   \n",
      "2   10  0.5500  0.470  0.6400  0.6400  0.6200  0.6200  0.5000  0.5000  0.5000   \n",
      "3   11  0.6100  0.530  0.6800  0.6800  0.6600  0.6600  0.5500  0.5500  0.5500   \n",
      "4   12  0.6500  0.580  0.7200  0.7200  0.7000  0.7000  0.6000  0.6000  0.6000   \n",
      "5   13  0.7000  0.630  0.7600  0.7600  0.7400  0.7400  0.6500  0.6500  0.6500   \n",
      "6   14  0.7400  0.680  0.7900  0.7900  0.7700  0.7700  0.7000  0.7000  0.7000   \n",
      "7   15  0.7700  0.720  0.8200  0.8200  0.8000  0.8000  0.7400  0.7400  0.7400   \n",
      "8   16  0.8100  0.760  0.8400  0.8400  0.8300  0.8300  0.7700  0.7700  0.7700   \n",
      "9   17  0.8400  0.800  0.8700  0.8700  0.8600  0.8600  0.8100  0.8100  0.8100   \n",
      "10  18  0.8700  0.830  0.8900  0.8900  0.8800  0.8800  0.8400  0.8400  0.8400   \n",
      "11  19  0.8900  0.860  0.9100  0.9100  0.9100  0.9100  0.8700  0.8700  0.8700   \n",
      "12  20  0.9200  0.890  0.9300  0.9300  0.9300  0.9300  0.9000  0.9000  0.9000   \n",
      "13  21  0.9400  0.920  0.9500  0.9500  0.9500  0.9500  0.9250  0.9250  0.9250   \n",
      "14  22  0.9600  0.950  0.9700  0.9700  0.9700  0.9700  0.9500  0.9500  0.9500   \n",
      "15  23  0.9800  0.975  0.9850  0.9850  0.9850  0.9850  0.9750  0.9750  0.9750   \n",
      "16  24  1.0000  1.000  1.0000  1.0000  1.0000  1.0000  1.0000  1.0000  1.0000   \n",
      "17  25  1.0150  1.020  1.0150  1.0150  1.0150  1.0150  1.0200  1.0200  1.0200   \n",
      "18  26  1.0300  1.040  1.0300  1.0300  1.0300  1.0300  1.0400  1.0400  1.0400   \n",
      "19  27  1.0450  1.060  1.0400  1.0400  1.0450  1.0450  1.0600  1.0600  1.0600   \n",
      "20  28  1.0600  1.080  1.0500  1.0500  1.0600  1.0600  1.0800  1.0800  1.0800   \n",
      "21  29  1.0750  1.100  1.0650  1.0650  1.0700  1.0700  1.0950  1.0950  1.0950   \n",
      "22  30  1.0900  1.120  1.0800  1.0800  1.0800  1.0800  1.1100  1.1100  1.1100   \n",
      "23  31  1.1050  1.135  1.0900  1.0900  1.0900  1.0900  1.1250  1.1250  1.1250   \n",
      "24  32  1.1200  1.150  1.1000  1.1000  1.1000  1.1000  1.1400  1.1400  1.1400   \n",
      "25  33  1.1300  1.165  1.1100  1.1100  1.1100  1.1100  1.1525  1.1525  1.1525   \n",
      "26  34  1.1400  1.180  1.1200  1.1200  1.1200  1.1200  1.1650  1.1650  1.1650   \n",
      "27  35  1.1500  1.195  1.1300  1.1300  1.1300  1.1300  1.1775  1.1775  1.1775   \n",
      "28  36  1.1600  1.210  1.1400  1.1400  1.1400  1.1400  1.1900  1.1900  1.1900   \n",
      "29  37  1.1675  1.220  1.1475  1.1475  1.1475  1.1475  1.2000  1.2000  1.2000   \n",
      "30  38  1.1750  1.230  1.1550  1.1550  1.1550  1.1550  1.2100  1.2100  1.2100   \n",
      "31  39  1.1825  1.240  1.1625  1.1625  1.1625  1.1625  1.2200  1.2200  1.2200   \n",
      "32  40  1.1900  1.250  1.1700  1.1700  1.1700  1.1700  1.2300  1.2300  1.2300   \n",
      "\n",
      "    ...      LH      SD     TS      JA      KP      RE      TM      PI  \\\n",
      "0   ...  0.4300  0.4300  0.350  0.3800  0.3800  0.5500  0.5500  0.5500   \n",
      "1   ...  0.5000  0.5000  0.410  0.4400  0.4400  0.6000  0.6000  0.6000   \n",
      "2   ...  0.5500  0.5500  0.470  0.5000  0.5000  0.6400  0.6400  0.6400   \n",
      "3   ...  0.6100  0.6100  0.530  0.5500  0.5500  0.6800  0.6800  0.6800   \n",
      "4   ...  0.6500  0.6500  0.580  0.6000  0.6000  0.7200  0.7200  0.7200   \n",
      "5   ...  0.7000  0.7000  0.630  0.6500  0.6500  0.7600  0.7600  0.7600   \n",
      "6   ...  0.7400  0.7400  0.680  0.7000  0.7000  0.7900  0.7900  0.7900   \n",
      "7   ...  0.7700  0.7700  0.720  0.7400  0.7400  0.8200  0.8200  0.8200   \n",
      "8   ...  0.8100  0.8100  0.760  0.7700  0.7700  0.8400  0.8400  0.8400   \n",
      "9   ...  0.8400  0.8400  0.800  0.8100  0.8100  0.8700  0.8700  0.8700   \n",
      "10  ...  0.8700  0.8700  0.830  0.8400  0.8400  0.8900  0.8900  0.8900   \n",
      "11  ...  0.8900  0.8900  0.860  0.8700  0.8700  0.9100  0.9100  0.9100   \n",
      "12  ...  0.9200  0.9200  0.890  0.9000  0.9000  0.9300  0.9300  0.9300   \n",
      "13  ...  0.9400  0.9400  0.920  0.9250  0.9250  0.9500  0.9500  0.9500   \n",
      "14  ...  0.9600  0.9600  0.950  0.9500  0.9500  0.9700  0.9700  0.9700   \n",
      "15  ...  0.9800  0.9800  0.975  0.9750  0.9750  0.9850  0.9850  0.9850   \n",
      "16  ...  1.0000  1.0000  1.000  1.0000  1.0000  1.0000  1.0000  1.0000   \n",
      "17  ...  1.0150  1.0150  1.020  1.0200  1.0200  1.0150  1.0150  1.0150   \n",
      "18  ...  1.0300  1.0300  1.040  1.0400  1.0400  1.0300  1.0300  1.0300   \n",
      "19  ...  1.0450  1.0450  1.060  1.0600  1.0600  1.0400  1.0400  1.0400   \n",
      "20  ...  1.0600  1.0600  1.080  1.0800  1.0800  1.0500  1.0500  1.0500   \n",
      "21  ...  1.0750  1.0750  1.100  1.0950  1.0950  1.0650  1.0650  1.0650   \n",
      "22  ...  1.0900  1.0900  1.120  1.1100  1.1100  1.0800  1.0800  1.0800   \n",
      "23  ...  1.1050  1.1050  1.135  1.1250  1.1250  1.0900  1.0900  1.0900   \n",
      "24  ...  1.1200  1.1200  1.150  1.1400  1.1400  1.1000  1.1000  1.1000   \n",
      "25  ...  1.1300  1.1300  1.165  1.1525  1.1525  1.1100  1.1100  1.1100   \n",
      "26  ...  1.1400  1.1400  1.180  1.1650  1.1650  1.1200  1.1200  1.1200   \n",
      "27  ...  1.1500  1.1500  1.195  1.1775  1.1775  1.1300  1.1300  1.1300   \n",
      "28  ...  1.1600  1.1600  1.210  1.1900  1.1900  1.1400  1.1400  1.1400   \n",
      "29  ...  1.1675  1.1675  1.220  1.2000  1.2000  1.1475  1.1475  1.1475   \n",
      "30  ...  1.1750  1.1750  1.230  1.2100  1.2100  1.1550  1.1550  1.1550   \n",
      "31  ...  1.1825  1.1825  1.240  1.2200  1.2200  1.1625  1.1625  1.1625   \n",
      "32  ...  1.1900  1.1900  1.250  1.2300  1.2300  1.1700  1.1700  1.1700   \n",
      "\n",
      "        TO      TL  \n",
      "0   0.4300  0.5500  \n",
      "1   0.5000  0.6000  \n",
      "2   0.5500  0.6400  \n",
      "3   0.6100  0.6800  \n",
      "4   0.6500  0.7200  \n",
      "5   0.7000  0.7600  \n",
      "6   0.7400  0.7900  \n",
      "7   0.7700  0.8200  \n",
      "8   0.8100  0.8400  \n",
      "9   0.8400  0.8700  \n",
      "10  0.8700  0.8900  \n",
      "11  0.8900  0.9100  \n",
      "12  0.9200  0.9300  \n",
      "13  0.9400  0.9500  \n",
      "14  0.9600  0.9700  \n",
      "15  0.9800  0.9850  \n",
      "16  1.0000  1.0000  \n",
      "17  1.0150  1.0150  \n",
      "18  1.0300  1.0300  \n",
      "19  1.0450  1.0400  \n",
      "20  1.0600  1.0500  \n",
      "21  1.0750  1.0650  \n",
      "22  1.0900  1.0800  \n",
      "23  1.1050  1.0900  \n",
      "24  1.1200  1.1000  \n",
      "25  1.1300  1.1100  \n",
      "26  1.1400  1.1200  \n",
      "27  1.1500  1.1300  \n",
      "28  1.1600  1.1400  \n",
      "29  1.1675  1.1475  \n",
      "30  1.1750  1.1550  \n",
      "31  1.1825  1.1625  \n",
      "32  1.1900  1.1700  \n",
      "\n",
      "[33 rows x 23 columns]\n"
     ]
    }
   ],
   "source": [
    "# Reading in EXCEL file for relative height.\n",
    "relative_heights = pd.read_excel('Data_Sources/Suhtelised_tugikõrgused.xlsx')\n",
    "\n",
    "print(\"Suhtelised tugikõrgused:\")\n",
    "print(relative_heights)\n"
   ]
  },
  {
   "cell_type": "markdown",
   "id": "3b2c8f66",
   "metadata": {},
   "source": [
    "### Reading in EXCEL file for log volume distribution"
   ]
  },
  {
   "cell_type": "code",
   "execution_count": null,
   "id": "1bbffbe2",
   "metadata": {},
   "outputs": [
    {
     "name": "stdout",
     "output_type": "stream",
     "text": [
      "Mahutabel:\n",
      "     d klass+pl+h24 x m  kõrgus      palk     peenp     paber      küte  \\\n",
      "0                 8MA16     8.0  0.000000  0.000000  0.000000  0.500000   \n",
      "1                12MA16    11.0  0.000000  0.000000  0.714286  0.000000   \n",
      "2                16MA16    13.0  0.000000  0.333333  0.400000  0.000000   \n",
      "3                20MA16    15.0  0.000000  0.680000  0.080000  0.000000   \n",
      "4                24MA16    16.0  0.289474  0.368421  0.105263  0.000000   \n",
      "...                 ...     ...       ...       ...       ...       ...   \n",
      "3205             36PN27    32.0  0.000000  0.000000  0.000000  0.794521   \n",
      "3206             40PN27    33.0  0.000000  0.000000  0.000000  0.795699   \n",
      "3207             44PN27    34.0  0.000000  0.000000  0.000000  0.800000   \n",
      "3208             48PN27    35.0  0.000000  0.000000  0.000000  0.806452   \n",
      "3209             52PN27    35.0  0.000000  0.000000  0.000000  0.804805   \n",
      "\n",
      "       jäätmed  kokku  \n",
      "0     0.500000    1.0  \n",
      "1     0.285714    1.0  \n",
      "2     0.266667    1.0  \n",
      "3     0.240000    1.0  \n",
      "4     0.236842    1.0  \n",
      "...        ...    ...  \n",
      "3205  0.205479    1.0  \n",
      "3206  0.204301    1.0  \n",
      "3207  0.200000    1.0  \n",
      "3208  0.193548    1.0  \n",
      "3209  0.195195    1.0  \n",
      "\n",
      "[3210 rows x 8 columns]\n"
     ]
    }
   ],
   "source": [
    "# Reading in EXCEL file for type proportions.\n",
    "log_volume_distribution = pd.read_excel('Data_Sources/Mahutabel.xlsx')\n",
    "\n",
    "print(\"Mahutabel:\")\n",
    "print(log_volume_distribution)"
   ]
  },
  {
   "cell_type": "markdown",
   "id": "11e93844",
   "metadata": {},
   "source": [
    "### Merging dataframes API_cadastral_data and tree_name."
   ]
  },
  {
   "cell_type": "code",
   "execution_count": null,
   "id": "1452a6e4",
   "metadata": {},
   "outputs": [],
   "source": [
    "# Merging two dataframes on main species names and adding Name_EE, Name_ENG.\n",
    "cadastral_data = pd.merge(API_cadastral_data, tree_name, left_on='Puuliik', right_on='Name_ENG', how='left')"
   ]
  },
  {
   "cell_type": "markdown",
   "id": "50c3feb1",
   "metadata": {},
   "source": [
    "### Adding a 'Relative height' and 'h24' column to the table."
   ]
  },
  {
   "cell_type": "code",
   "execution_count": null,
   "id": "cd814b3f",
   "metadata": {},
   "outputs": [],
   "source": [
    "import numpy as np\n",
    "\n",
    "cadastral_data['Suhteline tugikõrgus'] = np.nan\n",
    "\n",
    "for index, row in cadastral_data.iterrows():\n",
    "    name_ee = row['Name_EE']\n",
    "    diameter_cm = row['Diameeter cm']\n",
    "    try:\n",
    "        # Look up the correct value from relative_heights table.\n",
    "        h24_value = relative_heights.loc[relative_heights['d'] == diameter_cm, name_ee]\n",
    "        # When the value is found add it to the column \n",
    "        if not h24_value.empty:\n",
    "            cadastral_data.at[index, 'Suhteline tugikõrgus'] = h24_value.values[0]\n",
    "    except KeyError:\n",
    "        # When there isn´t a value add NaN to the row\n",
    "        pass\n",
    "\n",
    "# Adding a 'h24' column to the table.\n",
    "cadastral_data['h24'] = cadastral_data.apply(\n",
    "    lambda row: 16 if (pd.notna(row['Kõrgus m']) and pd.notna(row['Suhteline tugikõrgus']) and row['Suhteline tugikõrgus'] != 0 and (np.ceil(row['Kõrgus m'] / row['Suhteline tugikõrgus'])) < 16) else (int(np.ceil(row['Kõrgus m'] / row['Suhteline tugikõrgus'])) if pd.notna(row['Kõrgus m']) and pd.notna(row['Suhteline tugikõrgus']) and row['Suhteline tugikõrgus'] != 0 else np.nan),\n",
    "    axis=1)\n",
    "#\n",
    "cadastral_data['h24'] = cadastral_data['h24'].astype('Int64')"
   ]
  },
  {
   "cell_type": "markdown",
   "id": "092e06b1",
   "metadata": {},
   "source": [
    "### Adding a 'Diameetri klass' column to the table"
   ]
  },
  {
   "cell_type": "code",
   "execution_count": null,
   "id": "a6a40805",
   "metadata": {},
   "outputs": [],
   "source": [
    "# Adding a 'Diameetri klass' column to the table.\n",
    "def diameter_category(diameter_cm):\n",
    "    if 5 <= diameter_cm <= 52:\n",
    "        # Round up to the nearest multiple of 4 (aligned with 8, 12, 16, …, 52)\n",
    "        return ((diameter_cm + 3) // 4) * 4\n",
    "    elif diameter_cm > 52:\n",
    "        return 52\n",
    "    return None\n",
    "cadastral_data['Diameetri klass'] = (\n",
    "    cadastral_data['Diameeter cm']\n",
    "    .apply(diameter_category)# Using .apply() to use the function on 'Diameeter cm' values.\n",
    "    .astype('Int64')# Getting 'Diameetri klass' column to Int64 type.\n",
    ")"
   ]
  },
  {
   "cell_type": "markdown",
   "id": "2babec69",
   "metadata": {},
   "source": [
    "### Adding a 'Sortimendi jaotusklass' column to the table"
   ]
  },
  {
   "cell_type": "code",
   "execution_count": null,
   "id": "8baf5050",
   "metadata": {},
   "outputs": [],
   "source": [
    "cadastral_data['Sortimendi jaotusklass'] = cadastral_data['Diameetri klass'].astype(str) + '' + cadastral_data['Name_EE'].astype(str) + '' + cadastral_data['h24'].astype(str)"
   ]
  },
  {
   "cell_type": "markdown",
   "id": "fac3527d",
   "metadata": {},
   "source": [
    "### Merging log_volume_distribution with cadastral_data on 'Sortimendi jaotusklass' to get the Mahu jaotus."
   ]
  },
  {
   "cell_type": "code",
   "execution_count": null,
   "id": "a0b2a94f",
   "metadata": {},
   "outputs": [
    {
     "name": "stdout",
     "output_type": "stream",
     "text": [
      "Lõplik katastriandmete tabel:\n",
      "   Eraldise nr          Puuliik  Kõrgus m  Diameeter cm  Pindala ha  \\\n",
      "0            0             Pine      14.8            23        1.04   \n",
      "1            0           Spruce      18.0            23        1.04   \n",
      "2            0            Birch      15.1            17        1.04   \n",
      "3            0  Other Deciduous       8.6            11        1.04   \n",
      "4            1             Pine      22.8            30        1.42   \n",
      "5            1           Spruce      23.0            28        1.42   \n",
      "6            1            Birch      22.0            22        1.42   \n",
      "7            2             Pine      23.2            33        1.94   \n",
      "8            2           Spruce      23.0            29        1.94   \n",
      "9            2            Birch      22.7            22        1.94   \n",
      "10           2  Other Deciduous      23.3            28        1.94   \n",
      "11           3             Pine      24.4            32        1.65   \n",
      "12           3           Spruce      24.9            30        1.65   \n",
      "13           3            Birch      23.6            26        1.65   \n",
      "14           3  Other Deciduous      24.8            32        1.65   \n",
      "15           5             Pine      23.7            29        0.45   \n",
      "16           5           Spruce      23.6            25        0.45   \n",
      "17           5  Other Deciduous      25.9            33        0.45   \n",
      "\n",
      "    Tihedus m3/ha  Tagavara m3 Name_EE  Suhteline tugikõrgus  h24  \\\n",
      "0             8.0         8.32      MA                 0.980   16   \n",
      "1            15.0        15.60      KU                 0.975   19   \n",
      "2            30.0        31.20      KS                 0.870   18   \n",
      "3            12.0        12.48      LV                 0.680   16   \n",
      "4            90.0       127.80      MA                 1.090   21   \n",
      "5           159.0       225.78      KU                 1.080   22   \n",
      "6            57.0        80.94      KS                 0.970   23   \n",
      "7             9.0        17.46      MA                 1.130   21   \n",
      "8            61.0       118.34      KU                 1.100   21   \n",
      "9           207.0       401.58      KS                 0.970   24   \n",
      "10            8.0        15.52      LV                 1.050   23   \n",
      "11            9.0        14.85      MA                 1.120   22   \n",
      "12          283.0       466.95      KU                 1.120   23   \n",
      "13            6.0         9.90      KS                 1.030   23   \n",
      "14           14.0        23.10      LV                 1.100   23   \n",
      "15            6.0         2.70      MA                 1.075   23   \n",
      "16          299.0       134.55      KU                 1.020   24   \n",
      "17            6.0         2.70      LV                 1.110   24   \n",
      "\n",
      "    Diameetri klass Sortimendi jaotusklass        palk      peenp       paber  \\\n",
      "0                24                 24MA16    2.408421   3.065263    0.875789   \n",
      "1                24                 24KU19    7.090909   4.254545    1.063636   \n",
      "2                20                 20KS18    0.000000   0.000000   23.712000   \n",
      "3                12                 12LV16    0.000000   0.000000    0.000000   \n",
      "4                32                 32MA21   85.200000  10.282759    7.344828   \n",
      "5                28                 28KU22  147.384167  18.815000   12.543333   \n",
      "6                24                 24KS23   32.720426   0.000000   27.554043   \n",
      "7                36                 36MA21   13.095000   0.935357    0.000000   \n",
      "8                32                 32KU21   80.208222   9.204222    6.574444   \n",
      "9                24                 24KS24  155.714694   0.000000  147.519184   \n",
      "10               28                 28LV23    8.230303   0.000000    0.000000   \n",
      "11               32                 32MA22   10.742553   0.947872    0.473936   \n",
      "12               32                 32KU23  300.182143  66.707143   14.294388   \n",
      "13               28                 28KS23    5.171642   0.000000    2.364179   \n",
      "14               32                 32LV23   14.962500   0.000000    0.000000   \n",
      "15               32                 32MA23    1.953191   0.172340    0.086170   \n",
      "16               28                 28KU24   87.275676  20.000676    3.636486   \n",
      "17               36                 36LV24    1.899153   0.000000    0.000000   \n",
      "\n",
      "         küte    jäätmed  \n",
      "0    0.000000   1.970526  \n",
      "1    0.000000   3.190909  \n",
      "2    0.000000   7.488000  \n",
      "3   10.697143   1.782857  \n",
      "4    0.000000  24.972414  \n",
      "5    6.271667  40.765833  \n",
      "6    3.444255  17.221277  \n",
      "7    0.467679   2.961964  \n",
      "8    2.629778  19.723333  \n",
      "9    0.000000  98.346122  \n",
      "10   3.527273   3.762424  \n",
      "11   0.000000   2.685638  \n",
      "12   0.000000  85.766327  \n",
      "13   0.000000   2.364179  \n",
      "14   3.675000   4.462500  \n",
      "15   0.000000   0.488298  \n",
      "16   0.000000  23.637162  \n",
      "17   0.251695   0.549153  \n"
     ]
    }
   ],
   "source": [
    "cadastral_data = pd.merge(cadastral_data, \n",
    "                     log_volume_distribution, \n",
    "                     left_on='Sortimendi jaotusklass', \n",
    "                     right_on='d klass+pl+h24 x m', \n",
    "                     how='inner')\n",
    "\n",
    "# Calculating proportions for each row\n",
    "columns_to_multiply = ['palk', 'peenp', 'paber', 'küte', 'jäätmed']\n",
    "\n",
    "# A loop that multiplys type proportion columns by 'Tagavara m3' column values.\n",
    "for column in columns_to_multiply:\n",
    "    cadastral_data[column] = cadastral_data[column] * cadastral_data['Tagavara m3']\n",
    "\n",
    "# Dropping unnecessary columns from the table.\n",
    "cadastral_data = cadastral_data.drop(columns=['d klass+pl+h24 x m', 'kõrgus', 'kokku','Name_ENG'])\n",
    "\n",
    "print(\"Lõplik katastriandmete tabel:\")\n",
    "print(cadastral_data)"
   ]
  },
  {
   "cell_type": "markdown",
   "id": "53ddf8ee",
   "metadata": {},
   "source": [
    "### Creating a new dataframe to sum up 'Maht' and 'Hind'"
   ]
  },
  {
   "cell_type": "code",
   "execution_count": null,
   "id": "39e58d3d",
   "metadata": {},
   "outputs": [
    {
     "name": "stdout",
     "output_type": "stream",
     "text": [
      "Lõplik mahu ja hinna tabel:\n",
      "                Sortiment  Maht (tm)  Hind (€)\n",
      "0                 Ma palk      113.4   10772.9\n",
      "1                 Ku palk      622.1   59103.4\n",
      "2            Ks palk/pakk      193.6   21296.7\n",
      "3   Teised liigid/Lv palk       25.1    1254.6\n",
      "4             Ma peenpalk       15.4     985.8\n",
      "5             Ku peenpalk      119.0    7614.8\n",
      "6           Ma paberipuit        8.8     544.4\n",
      "7           Ku paberipuit       38.1    2363.0\n",
      "8           Ks paberipuit      201.1   10057.5\n",
      "9               Küttepuit       31.0    1207.6\n",
      "10                Jäätmed      342.1    1026.4\n",
      "11                  Kokku     1709.8  116227.2\n"
     ]
    }
   ],
   "source": [
    "# Define the mapping between Sortiment, source (Name_EE + column), and price names\n",
    "mappings = [\n",
    "    (\"Ma palk\",        (\"MA\", \"palk\"),   \"Ma palk\"),\n",
    "    (\"Ku palk\",        (\"KU\", \"palk\"),   \"Ku palk\"),\n",
    "    (\"Ks palk/pakk\",   (\"KS\", \"palk\"),   \"Ks palk/pakk\"),\n",
    "    (\"Teised liigid/Lv palk\", (\"LV\", \"palk\"), \"Lv palk\"),\n",
    "    (\"Ma peenpalk\",    (\"MA\", \"peenp\"),  \"Ma peenpalk\"),\n",
    "    (\"Ku peenpalk\",    (\"KU\", \"peenp\"),  \"Ku peenpalk\"),\n",
    "    (\"Ma paberipuit\",  (\"MA\", \"paber\"),  \"Ma paberipuit\"),\n",
    "    (\"Ku paberipuit\",  (\"KU\", \"paber\"),  \"Ku paberipuit\"),\n",
    "    (\"Ks paberipuit\",  (\"KS\", \"paber\"),  \"Ks paberipuit\"),\n",
    "    (\"Küttepuit\",      (None, \"küte\"),   \"Küttepuit\"),\n",
    "    (\"Jäätmed\",        (None, \"jäätmed\"),\"Jäätmed\"),\n",
    "]\n",
    "rows = []\n",
    "for sortiment, (name_ee, col), price_name in mappings:\n",
    "    if name_ee:  # sum by Name_EE + column\n",
    "        volume = cadastral_data.loc[cadastral_data[\"Name_EE\"] == name_ee, col].sum()\n",
    "    else:        # global sum\n",
    "        volume = cadastral_data[col].sum()\n",
    "    # find matching price\n",
    "    price = wood_prices.loc[wood_prices[\"Sortiment\"] == price_name, \"Hind (€/tm)\"].squeeze()\n",
    "    rows.append({\n",
    "        \"Sortiment\": sortiment,\n",
    "        \"Maht (tm)\": volume,\n",
    "        \"Summa (€)\": volume * price\n",
    "    })\n",
    "# Create DataFrame\n",
    "total_volume_and_amount = pd.DataFrame(rows)\n",
    "# Add total row\n",
    "total_volume_and_amount.loc[len(total_volume_and_amount)] = {\n",
    "    \"Sortiment\": \"Kokku\",\n",
    "    \"Maht (tm)\": total_volume_and_amount[\"Maht (tm)\"].sum(),\n",
    "    \"Summa (€)\": total_volume_and_amount[\"Summa (€)\"].sum()\n",
    "}\n",
    "# Round results\n",
    "total_volume_and_amount[\"Maht (tm)\"] = total_volume_and_amount[\"Maht (tm)\"].round(1)\n",
    "total_volume_and_amount[\"Summa (€)\"] = total_volume_and_amount[\"Summa (€)\"].round(1)\n",
    "\n",
    "print(\"Lõplik mahu ja hinna tabel:\")\n",
    "print(total_volume_and_amount)"
   ]
  },
  {
   "cell_type": "markdown",
   "id": "e5ec4f0f",
   "metadata": {},
   "source": [
    "### Creating a new dataframe to get recommended starting bid"
   ]
  },
  {
   "cell_type": "code",
   "execution_count": null,
   "id": "6f711d9f",
   "metadata": {},
   "outputs": [
    {
     "name": "stdout",
     "output_type": "stream",
     "text": [
      "Katastriüksuse hinnanguline väärtus:\n",
      "                           Väärtus Ühik\n",
      "Maht kokku                  1709.8   tm\n",
      "Tulud kokku               116227.2    €\n",
      "Kulud (jäätmeteta)         28719.6    €\n",
      "Tulud-Kulud (jäätmeteta)   87507.6    €\n",
      "Soovituslik alghind        78756.8    €\n"
     ]
    }
   ],
   "source": [
    "# Extract key values\n",
    "maht_kokku = total_volume_and_amount.at[total_volume_and_amount.index[total_volume_and_amount['Sortiment'] == 'Kokku'][0], 'Maht (tm)']\n",
    "hind_kokku = total_volume_and_amount.at[total_volume_and_amount.index[total_volume_and_amount['Sortiment'] == 'Kokku'][0], 'Summa (€)']\n",
    "maht_jaatmeteta = total_volume_and_amount.loc[\n",
    "    ~total_volume_and_amount['Sortiment'].isin(['Jäätmed', 'Kokku']),\n",
    "    'Maht (tm)'\n",
    "].sum()\n",
    "# Calculations\n",
    "kulud_tm = kulud[\"Kompleksteenus(€/tm)\"] + kulud[\"Transport (€/tm)\"]\n",
    "kulud_jaatmeteta = maht_jaatmeteta * kulud_tm\n",
    "tulud_kulud_jaatmeteta = hind_kokku - kulud_jaatmeteta\n",
    "soovituslik_alghind = tulud_kulud_jaatmeteta * (1 - kulud[\"Alghinna(%)\"] / 100)\n",
    "# Build result table\n",
    "results = {\n",
    "    \"Maht kokku\":              (maht_kokku, \"tm\"),\n",
    "    \"Tulud kokku\":              (hind_kokku, \"€\"),\n",
    "    \"Kulud (jäätmeteta)\":      (kulud_jaatmeteta, \"€\"),\n",
    "    \"Tulud-Kulud (jäätmeteta)\":(tulud_kulud_jaatmeteta, \"€\"),\n",
    "    \"Soovituslik alghind\":     (soovituslik_alghind, \"€\"),\n",
    "}\n",
    "cadastral_data_summary = (\n",
    "    pd.DataFrame.from_dict(results, orient=\"index\", columns=[\"Väärtus\", \"Ühik\"])\n",
    "    .assign(Väärtus=lambda df: df[\"Väärtus\"].round(1))\n",
    ")\n",
    "\n",
    "print(\"Katastriüksuse hinnanguline väärtus:\")\n",
    "print(cadastral_data_summary)"
   ]
  },
  {
   "cell_type": "markdown",
   "id": "327a965c",
   "metadata": {},
   "source": [
    "### Cadastral summary in Excel."
   ]
  },
  {
   "cell_type": "code",
   "execution_count": null,
   "id": "d5cbcddf",
   "metadata": {},
   "outputs": [],
   "source": [
    "#with pd.ExcelWriter('Cadastral_summary.xlsx') as writer:\n",
    "    #cadastral_data.to_excel(writer, sheet_name='Katastriandmed', index=False)\n",
    "    #total_volume_and_amount.to_excel(writer, sheet_name='Maht ja hind', index=False)\n",
    "    #cadastral_data_summary.to_excel(writer, sheet_name='Kokkuvõte')"
   ]
  }
 ],
 "metadata": {
  "kernelspec": {
   "display_name": "Python 3",
   "language": "python",
   "name": "python3"
  },
  "language_info": {
   "codemirror_mode": {
    "name": "ipython",
    "version": 3
   },
   "file_extension": ".py",
   "mimetype": "text/x-python",
   "name": "python",
   "nbconvert_exporter": "python",
   "pygments_lexer": "ipython3",
   "version": "3.13.7"
  }
 },
 "nbformat": 4,
 "nbformat_minor": 5
}
