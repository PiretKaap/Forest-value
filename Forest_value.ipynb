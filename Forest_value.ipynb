{
 "cells": [
  {
   "cell_type": "markdown",
   "id": "d7cb04f8",
   "metadata": {},
   "source": [
    "### Defining costs"
   ]
  },
  {
   "cell_type": "code",
   "execution_count": 1,
   "id": "7ce59a66",
   "metadata": {},
   "outputs": [],
   "source": [
    "kulud = {\n",
    "  \"Kompleksteenus(€/tm)\": 15,\n",
    "  \"Transport (€/tm)\": 6,\n",
    "  \"Alghinna(%)\": 10\n",
    "} "
   ]
  },
  {
   "cell_type": "markdown",
   "id": "8d273d80",
   "metadata": {},
   "source": [
    "### Reading in EXCEL file for wood prices."
   ]
  },
  {
   "cell_type": "code",
   "execution_count": 2,
   "id": "657bd5f6",
   "metadata": {},
   "outputs": [
    {
     "name": "stdout",
     "output_type": "stream",
     "text": [
      "Hinnakiri:\n",
      "                    Sortiment  Hind (€/tm)\n",
      "0                     Ma palk           95\n",
      "1                     Ku palk           95\n",
      "2                Ks palk/pakk          110\n",
      "3                     Hb palk           58\n",
      "4                     Lm palk           60\n",
      "5                     Lv palk           50\n",
      "6                     Sa palk           40\n",
      "7                     Ta palk           40\n",
      "8                     Lh palk           40\n",
      "9                     Sd palk           40\n",
      "10  Lehtpuu palk (Va, Ja, Kp)           35\n",
      "11                Ma peenpalk           64\n",
      "12                Ku peenpalk           64\n",
      "13              Ma paberipuit           62\n",
      "14              Ku paberipuit           62\n",
      "15              Ks paberipuit           50\n",
      "16              Hb paberipuit           50\n",
      "17                  Küttepuit           39\n",
      "18                    Jäätmed            3\n"
     ]
    }
   ],
   "source": [
    "import pandas as pd\n",
    "\n",
    "# Reading in EXCEL file for wood prices.\n",
    "wood_prices = pd.read_excel('Data_Sources/Hinnakiri.xlsx')\n",
    "\n",
    "print(\"Hinnakiri:\")\n",
    "print(wood_prices)"
   ]
  },
  {
   "cell_type": "markdown",
   "id": "a4601cbd",
   "metadata": {},
   "source": [
    "### Reading in the JSON file for a specific cadastral."
   ]
  },
  {
   "cell_type": "code",
   "execution_count": 3,
   "id": "4d10e602",
   "metadata": {},
   "outputs": [
    {
     "name": "stdout",
     "output_type": "stream",
     "text": [
      "  Eraldise nr          Puuliik  Kõrgus m  Diameeter cm  Pindala ha  \\\n",
      "0           0             Pine       9.2            12        0.17   \n",
      "1           0           Spruce      13.7            17        0.17   \n",
      "2           0            Birch      14.8            15        0.17   \n",
      "3           0  Other Deciduous      15.9            18        0.17   \n",
      "4           1             Pine       0.0             0        0.98   \n",
      "\n",
      "   Tihedus m3/ha  Tagavara m3  \n",
      "0              0         0.00  \n",
      "1            107        18.19  \n",
      "2             13         2.21  \n",
      "3              0         0.00  \n",
      "4              0         0.00  \n"
     ]
    }
   ],
   "source": [
    "import json\n",
    "\n",
    "# Reading in JSON file for a specific cadastral.\n",
    "f = open('Data_Sources/response_1758028130935.json')\n",
    "d = json.load(f)\n",
    "e = d['stands']\n",
    "\n",
    "# Create an empty list to store the new, transformed data records.\n",
    "transformed_data_list = []\n",
    "# Loop through each individual record (which is a dictionary) in the list.\n",
    "for record in e:\n",
    "    # Extract the stand number for the current record.\n",
    "    stand_number = record[\"stand_number\"]\n",
    "    # Now you can safely access the values using keys from this single record.\n",
    "    # Create a list of dictionaries for each species in the current record.\n",
    "    species_data = [\n",
    "        {\n",
    "            \"Eraldise nr\": stand_number,\n",
    "            \"Puuliik\": \"Pine\",\n",
    "            \"Kõrgus m\": record[\"pine_bam_height_m\"],\n",
    "            \"Diameeter cm\": record[\"pine_bam_dbh_cm\"],\n",
    "            \"Pindala ha\": record[\"total_area_ha\"],\n",
    "            \"Tihedus m3/ha\": record[\"pine_total_volume_m3_ha\"],\n",
    "            \"Tagavara m3\": record[\"total_area_ha\"] * record[\"pine_total_volume_m3_ha\"]\n",
    "        },\n",
    "        {\n",
    "            \"Eraldise nr\": stand_number,\n",
    "            \"Puuliik\": \"Spruce\",\n",
    "            \"Kõrgus m\": record[\"spruce_bam_height_m\"],\n",
    "            \"Diameeter cm\": record[\"spruce_bam_dbh_cm\"],\n",
    "            \"Pindala ha\": record[\"total_area_ha\"],\n",
    "            \"Tihedus m3/ha\": record[\"spruce_total_volume_m3_ha\"],\n",
    "            \"Tagavara m3\": record[\"total_area_ha\"] * record[\"spruce_total_volume_m3_ha\"]\n",
    "        },\n",
    "        {\n",
    "            \"Eraldise nr\": stand_number,\n",
    "            \"Puuliik\": \"Birch\",\n",
    "            \"Kõrgus m\": record[\"birch_bam_height_m\"],\n",
    "            \"Diameeter cm\": record[\"birch_bam_dbh_cm\"],\n",
    "            \"Pindala ha\": record[\"total_area_ha\"],\n",
    "            \"Tihedus m3/ha\": record[\"birch_total_volume_m3_ha\"],\n",
    "            \"Tagavara m3\": record[\"total_area_ha\"] * record[\"birch_total_volume_m3_ha\"]\n",
    "        \n",
    "        },\n",
    "        {\n",
    "            \"Eraldise nr\": stand_number,\n",
    "            \"Puuliik\": \"Other Deciduous\",\n",
    "            \"Kõrgus m\": record[\"other_deciduous_bam_height_m\"],\n",
    "            \"Diameeter cm\": record[\"other_deciduous_bam_dbh_cm\"],\n",
    "            \"Pindala ha\": record[\"total_area_ha\"],\n",
    "            \"Tihedus m3/ha\": record[\"other_deciduous_total_volume_m3_ha\"],\n",
    "            \"Tagavara m3\": record[\"total_area_ha\"] * record[\"other_deciduous_total_volume_m3_ha\"],\n",
    "            \n",
    "        }\n",
    "    ]\n",
    "    # Add the newly created species data to our main list.\n",
    "    transformed_data_list.extend(species_data)\n",
    "# Finally, create a single DataFrame from the combined list of all records.\n",
    "JSON_cadastral_data = pd.DataFrame(transformed_data_list)\n",
    "print(JSON_cadastral_data.head())"
   ]
  },
  {
   "cell_type": "markdown",
   "id": "af37fefa",
   "metadata": {},
   "source": [
    "### Reading in EXCEL file for tree names."
   ]
  },
  {
   "cell_type": "code",
   "execution_count": 4,
   "id": "1395d43b",
   "metadata": {},
   "outputs": [
    {
     "name": "stdout",
     "output_type": "stream",
     "text": [
      "Puude nimetused EE/ENG:\n",
      "  Name_EE         Name_ENG\n",
      "0      MA             Pine\n",
      "1      KU           Spruce\n",
      "2      KS            Birch\n",
      "3      LV  Other Deciduous\n",
      "4      HB              NaN\n"
     ]
    }
   ],
   "source": [
    "# Reading in EXCEL file for tree names.\n",
    "tree_name = pd.read_excel('Data_Sources/Puu_nimetused_EE_ENG.xlsx')\n",
    "\n",
    "print(\"Puude nimetused EE/ENG:\")\n",
    "print(tree_name.head())\n"
   ]
  },
  {
   "cell_type": "markdown",
   "id": "8841f988",
   "metadata": {},
   "source": [
    "### Reading in EXCEL file for relative heights."
   ]
  },
  {
   "cell_type": "code",
   "execution_count": 5,
   "id": "d234f0f5",
   "metadata": {},
   "outputs": [
    {
     "name": "stdout",
     "output_type": "stream",
     "text": [
      "Suhtelised tugikõrgused:\n",
      "     d      MA     KU      KS      LV      HB      LM      TA      SA      VA  \\\n",
      "0    8  0.4300  0.350  0.5500  0.5500  0.5200  0.5200  0.3800  0.3800  0.3800   \n",
      "1    9  0.5000  0.410  0.6000  0.6000  0.5700  0.5700  0.4400  0.4400  0.4400   \n",
      "2   10  0.5500  0.470  0.6400  0.6400  0.6200  0.6200  0.5000  0.5000  0.5000   \n",
      "3   11  0.6100  0.530  0.6800  0.6800  0.6600  0.6600  0.5500  0.5500  0.5500   \n",
      "4   12  0.6500  0.580  0.7200  0.7200  0.7000  0.7000  0.6000  0.6000  0.6000   \n",
      "5   13  0.7000  0.630  0.7600  0.7600  0.7400  0.7400  0.6500  0.6500  0.6500   \n",
      "6   14  0.7400  0.680  0.7900  0.7900  0.7700  0.7700  0.7000  0.7000  0.7000   \n",
      "7   15  0.7700  0.720  0.8200  0.8200  0.8000  0.8000  0.7400  0.7400  0.7400   \n",
      "8   16  0.8100  0.760  0.8400  0.8400  0.8300  0.8300  0.7700  0.7700  0.7700   \n",
      "9   17  0.8400  0.800  0.8700  0.8700  0.8600  0.8600  0.8100  0.8100  0.8100   \n",
      "10  18  0.8700  0.830  0.8900  0.8900  0.8800  0.8800  0.8400  0.8400  0.8400   \n",
      "11  19  0.8900  0.860  0.9100  0.9100  0.9100  0.9100  0.8700  0.8700  0.8700   \n",
      "12  20  0.9200  0.890  0.9300  0.9300  0.9300  0.9300  0.9000  0.9000  0.9000   \n",
      "13  21  0.9400  0.920  0.9500  0.9500  0.9500  0.9500  0.9250  0.9250  0.9250   \n",
      "14  22  0.9600  0.950  0.9700  0.9700  0.9700  0.9700  0.9500  0.9500  0.9500   \n",
      "15  23  0.9800  0.975  0.9850  0.9850  0.9850  0.9850  0.9750  0.9750  0.9750   \n",
      "16  24  1.0000  1.000  1.0000  1.0000  1.0000  1.0000  1.0000  1.0000  1.0000   \n",
      "17  25  1.0150  1.020  1.0150  1.0150  1.0150  1.0150  1.0200  1.0200  1.0200   \n",
      "18  26  1.0300  1.040  1.0300  1.0300  1.0300  1.0300  1.0400  1.0400  1.0400   \n",
      "19  27  1.0450  1.060  1.0400  1.0400  1.0450  1.0450  1.0600  1.0600  1.0600   \n",
      "20  28  1.0600  1.080  1.0500  1.0500  1.0600  1.0600  1.0800  1.0800  1.0800   \n",
      "21  29  1.0750  1.100  1.0650  1.0650  1.0700  1.0700  1.0950  1.0950  1.0950   \n",
      "22  30  1.0900  1.120  1.0800  1.0800  1.0800  1.0800  1.1100  1.1100  1.1100   \n",
      "23  31  1.1050  1.135  1.0900  1.0900  1.0900  1.0900  1.1250  1.1250  1.1250   \n",
      "24  32  1.1200  1.150  1.1000  1.1000  1.1000  1.1000  1.1400  1.1400  1.1400   \n",
      "25  33  1.1300  1.165  1.1100  1.1100  1.1100  1.1100  1.1525  1.1525  1.1525   \n",
      "26  34  1.1400  1.180  1.1200  1.1200  1.1200  1.1200  1.1650  1.1650  1.1650   \n",
      "27  35  1.1500  1.195  1.1300  1.1300  1.1300  1.1300  1.1775  1.1775  1.1775   \n",
      "28  36  1.1600  1.210  1.1400  1.1400  1.1400  1.1400  1.1900  1.1900  1.1900   \n",
      "29  37  1.1675  1.220  1.1475  1.1475  1.1475  1.1475  1.2000  1.2000  1.2000   \n",
      "30  38  1.1750  1.230  1.1550  1.1550  1.1550  1.1550  1.2100  1.2100  1.2100   \n",
      "31  39  1.1825  1.240  1.1625  1.1625  1.1625  1.1625  1.2200  1.2200  1.2200   \n",
      "32  40  1.1900  1.250  1.1700  1.1700  1.1700  1.1700  1.2300  1.2300  1.2300   \n",
      "\n",
      "    ...      LH      SD     TS      JA      KP      RE      TM      PI  \\\n",
      "0   ...  0.4300  0.4300  0.350  0.3800  0.3800  0.5500  0.5500  0.5500   \n",
      "1   ...  0.5000  0.5000  0.410  0.4400  0.4400  0.6000  0.6000  0.6000   \n",
      "2   ...  0.5500  0.5500  0.470  0.5000  0.5000  0.6400  0.6400  0.6400   \n",
      "3   ...  0.6100  0.6100  0.530  0.5500  0.5500  0.6800  0.6800  0.6800   \n",
      "4   ...  0.6500  0.6500  0.580  0.6000  0.6000  0.7200  0.7200  0.7200   \n",
      "5   ...  0.7000  0.7000  0.630  0.6500  0.6500  0.7600  0.7600  0.7600   \n",
      "6   ...  0.7400  0.7400  0.680  0.7000  0.7000  0.7900  0.7900  0.7900   \n",
      "7   ...  0.7700  0.7700  0.720  0.7400  0.7400  0.8200  0.8200  0.8200   \n",
      "8   ...  0.8100  0.8100  0.760  0.7700  0.7700  0.8400  0.8400  0.8400   \n",
      "9   ...  0.8400  0.8400  0.800  0.8100  0.8100  0.8700  0.8700  0.8700   \n",
      "10  ...  0.8700  0.8700  0.830  0.8400  0.8400  0.8900  0.8900  0.8900   \n",
      "11  ...  0.8900  0.8900  0.860  0.8700  0.8700  0.9100  0.9100  0.9100   \n",
      "12  ...  0.9200  0.9200  0.890  0.9000  0.9000  0.9300  0.9300  0.9300   \n",
      "13  ...  0.9400  0.9400  0.920  0.9250  0.9250  0.9500  0.9500  0.9500   \n",
      "14  ...  0.9600  0.9600  0.950  0.9500  0.9500  0.9700  0.9700  0.9700   \n",
      "15  ...  0.9800  0.9800  0.975  0.9750  0.9750  0.9850  0.9850  0.9850   \n",
      "16  ...  1.0000  1.0000  1.000  1.0000  1.0000  1.0000  1.0000  1.0000   \n",
      "17  ...  1.0150  1.0150  1.020  1.0200  1.0200  1.0150  1.0150  1.0150   \n",
      "18  ...  1.0300  1.0300  1.040  1.0400  1.0400  1.0300  1.0300  1.0300   \n",
      "19  ...  1.0450  1.0450  1.060  1.0600  1.0600  1.0400  1.0400  1.0400   \n",
      "20  ...  1.0600  1.0600  1.080  1.0800  1.0800  1.0500  1.0500  1.0500   \n",
      "21  ...  1.0750  1.0750  1.100  1.0950  1.0950  1.0650  1.0650  1.0650   \n",
      "22  ...  1.0900  1.0900  1.120  1.1100  1.1100  1.0800  1.0800  1.0800   \n",
      "23  ...  1.1050  1.1050  1.135  1.1250  1.1250  1.0900  1.0900  1.0900   \n",
      "24  ...  1.1200  1.1200  1.150  1.1400  1.1400  1.1000  1.1000  1.1000   \n",
      "25  ...  1.1300  1.1300  1.165  1.1525  1.1525  1.1100  1.1100  1.1100   \n",
      "26  ...  1.1400  1.1400  1.180  1.1650  1.1650  1.1200  1.1200  1.1200   \n",
      "27  ...  1.1500  1.1500  1.195  1.1775  1.1775  1.1300  1.1300  1.1300   \n",
      "28  ...  1.1600  1.1600  1.210  1.1900  1.1900  1.1400  1.1400  1.1400   \n",
      "29  ...  1.1675  1.1675  1.220  1.2000  1.2000  1.1475  1.1475  1.1475   \n",
      "30  ...  1.1750  1.1750  1.230  1.2100  1.2100  1.1550  1.1550  1.1550   \n",
      "31  ...  1.1825  1.1825  1.240  1.2200  1.2200  1.1625  1.1625  1.1625   \n",
      "32  ...  1.1900  1.1900  1.250  1.2300  1.2300  1.1700  1.1700  1.1700   \n",
      "\n",
      "        TO      TL  \n",
      "0   0.4300  0.5500  \n",
      "1   0.5000  0.6000  \n",
      "2   0.5500  0.6400  \n",
      "3   0.6100  0.6800  \n",
      "4   0.6500  0.7200  \n",
      "5   0.7000  0.7600  \n",
      "6   0.7400  0.7900  \n",
      "7   0.7700  0.8200  \n",
      "8   0.8100  0.8400  \n",
      "9   0.8400  0.8700  \n",
      "10  0.8700  0.8900  \n",
      "11  0.8900  0.9100  \n",
      "12  0.9200  0.9300  \n",
      "13  0.9400  0.9500  \n",
      "14  0.9600  0.9700  \n",
      "15  0.9800  0.9850  \n",
      "16  1.0000  1.0000  \n",
      "17  1.0150  1.0150  \n",
      "18  1.0300  1.0300  \n",
      "19  1.0450  1.0400  \n",
      "20  1.0600  1.0500  \n",
      "21  1.0750  1.0650  \n",
      "22  1.0900  1.0800  \n",
      "23  1.1050  1.0900  \n",
      "24  1.1200  1.1000  \n",
      "25  1.1300  1.1100  \n",
      "26  1.1400  1.1200  \n",
      "27  1.1500  1.1300  \n",
      "28  1.1600  1.1400  \n",
      "29  1.1675  1.1475  \n",
      "30  1.1750  1.1550  \n",
      "31  1.1825  1.1625  \n",
      "32  1.1900  1.1700  \n",
      "\n",
      "[33 rows x 23 columns]\n"
     ]
    }
   ],
   "source": [
    "# Reading in EXCEL file for relative height.\n",
    "relative_heights = pd.read_excel('Data_Sources/Suhtelised_tugikõrgused.xlsx')\n",
    "\n",
    "print(\"Suhtelised tugikõrgused:\")\n",
    "print(relative_heights)\n"
   ]
  },
  {
   "cell_type": "markdown",
   "id": "32cacd73",
   "metadata": {},
   "source": [
    "### Reading in EXCEL file for log volume distribution"
   ]
  },
  {
   "cell_type": "code",
   "execution_count": 6,
   "id": "6318c64c",
   "metadata": {},
   "outputs": [
    {
     "name": "stdout",
     "output_type": "stream",
     "text": [
      "Mahutabel:\n",
      "     d klass+pl+h24 x m  kõrgus      palk     peenp     paber      küte  \\\n",
      "0                 8MA16     8.0  0.000000  0.000000  0.000000  0.500000   \n",
      "1                12MA16    11.0  0.000000  0.000000  0.714286  0.000000   \n",
      "2                16MA16    13.0  0.000000  0.333333  0.400000  0.000000   \n",
      "3                20MA16    15.0  0.000000  0.680000  0.080000  0.000000   \n",
      "4                24MA16    16.0  0.289474  0.368421  0.105263  0.000000   \n",
      "...                 ...     ...       ...       ...       ...       ...   \n",
      "3205             36PN27    32.0  0.000000  0.000000  0.000000  0.794521   \n",
      "3206             40PN27    33.0  0.000000  0.000000  0.000000  0.795699   \n",
      "3207             44PN27    34.0  0.000000  0.000000  0.000000  0.800000   \n",
      "3208             48PN27    35.0  0.000000  0.000000  0.000000  0.806452   \n",
      "3209             52PN27    35.0  0.000000  0.000000  0.000000  0.804805   \n",
      "\n",
      "       jäätmed  kokku  \n",
      "0     0.500000    1.0  \n",
      "1     0.285714    1.0  \n",
      "2     0.266667    1.0  \n",
      "3     0.240000    1.0  \n",
      "4     0.236842    1.0  \n",
      "...        ...    ...  \n",
      "3205  0.205479    1.0  \n",
      "3206  0.204301    1.0  \n",
      "3207  0.200000    1.0  \n",
      "3208  0.193548    1.0  \n",
      "3209  0.195195    1.0  \n",
      "\n",
      "[3210 rows x 8 columns]\n"
     ]
    }
   ],
   "source": [
    "# Reading in EXCEL file for type proportions.\n",
    "log_volume_distribution = pd.read_excel('Data_Sources/Mahutabel.xlsx')\n",
    "\n",
    "print(\"Mahutabel:\")\n",
    "print(log_volume_distribution)"
   ]
  },
  {
   "cell_type": "markdown",
   "id": "344ba881",
   "metadata": {},
   "source": [
    "### Merging dataframes JSON_cadastral_data and tree_name."
   ]
  },
  {
   "cell_type": "code",
   "execution_count": 7,
   "id": "13849050",
   "metadata": {},
   "outputs": [],
   "source": [
    "# Merging two dataframes on main species names and adding Name_EE, Name_ENG.\n",
    "cadastral_data = pd.merge(JSON_cadastral_data, tree_name, left_on='Puuliik', right_on='Name_ENG', how='left')"
   ]
  },
  {
   "cell_type": "markdown",
   "id": "2658eb50",
   "metadata": {},
   "source": [
    "### Adding a 'Relative height' and 'h24' column to the table."
   ]
  },
  {
   "cell_type": "code",
   "execution_count": 8,
   "id": "ad5900d5",
   "metadata": {},
   "outputs": [],
   "source": [
    "import numpy as np\n",
    "\n",
    "cadastral_data['Suhteline tugikõrgus'] = np.nan\n",
    "\n",
    "for index, row in cadastral_data.iterrows():\n",
    "    name_ee = row['Name_EE']\n",
    "    diameter_cm = row['Diameeter cm']\n",
    "    try:\n",
    "        # Look up the correct value from relative_heights table.\n",
    "        h24_value = relative_heights.loc[relative_heights['d'] == diameter_cm, name_ee]\n",
    "        # When the value is found add it to the column \n",
    "        if not h24_value.empty:\n",
    "            cadastral_data.at[index, 'Suhteline tugikõrgus'] = h24_value.values[0]\n",
    "    except KeyError:\n",
    "        # When there isn´t a value add NaN to the row\n",
    "        pass\n",
    "\n",
    "# Adding a 'h24' column to the table.\n",
    "cadastral_data['h24'] = cadastral_data.apply(\n",
    "    lambda row: 16 if (pd.notna(row['Kõrgus m']) and pd.notna(row['Suhteline tugikõrgus']) and row['Suhteline tugikõrgus'] != 0 and (np.ceil(row['Kõrgus m'] / row['Suhteline tugikõrgus'])) < 16) else (int(np.ceil(row['Kõrgus m'] / row['Suhteline tugikõrgus'])) if pd.notna(row['Kõrgus m']) and pd.notna(row['Suhteline tugikõrgus']) and row['Suhteline tugikõrgus'] != 0 else np.nan),\n",
    "    axis=1)\n",
    "#\n",
    "cadastral_data['h24'] = cadastral_data['h24'].astype('Int64')"
   ]
  },
  {
   "cell_type": "markdown",
   "id": "452f657f",
   "metadata": {},
   "source": [
    "### Adding a 'Diameetri klass' column to the table"
   ]
  },
  {
   "cell_type": "code",
   "execution_count": 9,
   "id": "5dd2aba7",
   "metadata": {},
   "outputs": [],
   "source": [
    "# Adding a 'Diameetri klass' column to the table.\n",
    "def diameter_category(diameter_cm):\n",
    "    if 5 <= diameter_cm <= 52:\n",
    "        # Round up to the nearest multiple of 4 (aligned with 8, 12, 16, …, 52)\n",
    "        return ((diameter_cm + 3) // 4) * 4\n",
    "    elif diameter_cm > 52:\n",
    "        return 52\n",
    "    return None\n",
    "cadastral_data['Diameetri klass'] = (\n",
    "    cadastral_data['Diameeter cm']\n",
    "    .apply(diameter_category)# Using .apply() to use the function on 'Diameeter cm' values.\n",
    "    .astype('Int64')# Getting 'Diameetri klass' column to Int64 type.\n",
    ")"
   ]
  },
  {
   "cell_type": "markdown",
   "id": "25127bfc",
   "metadata": {},
   "source": [
    "### Adding a 'Sortimendi jaotusklass' column to the table"
   ]
  },
  {
   "cell_type": "code",
   "execution_count": 10,
   "id": "11a902bc",
   "metadata": {},
   "outputs": [],
   "source": [
    "cadastral_data['Sortimendi jaotusklass'] = cadastral_data['Diameetri klass'].astype(str) + '' + cadastral_data['Name_EE'].astype(str) + '' + cadastral_data['h24'].astype(str)"
   ]
  },
  {
   "cell_type": "markdown",
   "id": "8e5af4f0",
   "metadata": {},
   "source": [
    "### Merging log_volume_distribution with cadastral_data on 'Sortimendi jaotusklass' to get the Mahu jaotus."
   ]
  },
  {
   "cell_type": "code",
   "execution_count": 11,
   "id": "0c29c8e6",
   "metadata": {},
   "outputs": [
    {
     "name": "stdout",
     "output_type": "stream",
     "text": [
      "Lõplik katastriandmete tabel:\n",
      "   Eraldise nr          Puuliik  Kõrgus m  Diameeter cm  Pindala ha  \\\n",
      "0            0             Pine       9.2            12        0.17   \n",
      "1            0           Spruce      13.7            17        0.17   \n",
      "2            0            Birch      14.8            15        0.17   \n",
      "3            0  Other Deciduous      15.9            18        0.17   \n",
      "4            1           Spruce      13.7            17        0.98   \n",
      "5            1            Birch      13.2            16        0.98   \n",
      "6            1  Other Deciduous      14.6            16        0.98   \n",
      "7            2             Pine      19.5            28        0.29   \n",
      "8            2           Spruce      18.9            22        0.29   \n",
      "9            2            Birch      17.9            19        0.29   \n",
      "10           2  Other Deciduous      20.2            25        0.29   \n",
      "11           3             Pine      18.9            28        0.62   \n",
      "12           3           Spruce      17.5            22        0.62   \n",
      "13           3            Birch      17.6            17        0.62   \n",
      "14           4             Pine      20.3            29        1.11   \n",
      "15           4           Spruce      19.7            25        1.11   \n",
      "16           4            Birch      19.1            19        1.11   \n",
      "17           5           Spruce       7.3             9        2.73   \n",
      "18           5            Birch       8.5            10        2.73   \n",
      "19           5  Other Deciduous       9.1            11        2.73   \n",
      "20           6           Spruce      13.4            17        0.30   \n",
      "21           6  Other Deciduous      13.2            17        0.30   \n",
      "22           7             Pine      18.8            27        1.16   \n",
      "23           7           Spruce      18.4            21        1.16   \n",
      "24           7            Birch      18.0            18        1.16   \n",
      "25           8           Spruce       7.0             8        1.84   \n",
      "26           8            Birch       7.4             9        1.84   \n",
      "27           8  Other Deciduous       7.9            10        1.84   \n",
      "28           9            Birch       8.1            10        0.66   \n",
      "29           9  Other Deciduous       8.5            10        0.66   \n",
      "\n",
      "    Tihedus m3/ha  Tagavara m3 Name_EE  Suhteline tugikõrgus  h24  \\\n",
      "0               0         0.00      MA                 0.650   16   \n",
      "1             107        18.19      KU                 0.800   18   \n",
      "2              13         2.21      KS                 0.820   19   \n",
      "3               0         0.00      LV                 0.890   18   \n",
      "4              89        87.22      KU                 0.800   18   \n",
      "5              14        13.72      KS                 0.840   16   \n",
      "6               4         3.92      LV                 0.840   18   \n",
      "7              10         2.90      MA                 1.060   19   \n",
      "8             172        49.88      KU                 0.950   20   \n",
      "9               9         2.61      KS                 0.910   20   \n",
      "10              9         2.61      LV                 1.015   20   \n",
      "11             57        35.34      MA                 1.060   18   \n",
      "12             45        27.90      KU                 0.950   19   \n",
      "13             91        56.42      KS                 0.870   21   \n",
      "14            141       156.51      MA                 1.075   19   \n",
      "15             41        45.51      KU                 1.020   20   \n",
      "16             49        54.39      KS                 0.910   21   \n",
      "17              2         5.46      KU                 0.410   18   \n",
      "18             10        27.30      KS                 0.640   16   \n",
      "19              7        19.11      LV                 0.680   16   \n",
      "20             29         8.70      KU                 0.800   17   \n",
      "21             85        25.50      LV                 0.870   16   \n",
      "22             26        30.16      MA                 1.045   18   \n",
      "23            129       149.64      KU                 0.920   20   \n",
      "24             24        27.84      KS                 0.890   21   \n",
      "25              4         7.36      KU                 0.350   20   \n",
      "26              7        12.88      KS                 0.600   16   \n",
      "27             20        36.80      LV                 0.640   16   \n",
      "28              5         3.30      KS                 0.640   16   \n",
      "29             37        24.42      LV                 0.640   16   \n",
      "\n",
      "    Diameetri klass Sortimendi jaotusklass        palk      peenp      paber  \\\n",
      "0                12                 12MA16    0.000000   0.000000   0.000000   \n",
      "1                20                 20KU18    0.000000  10.186400   5.093200   \n",
      "2                16                 16KS19    0.000000   0.000000   1.519375   \n",
      "3                20                 20LV18    0.000000   0.000000   0.000000   \n",
      "4                20                 20KU18    0.000000  48.843200  24.421600   \n",
      "5                16                 16KS16    0.000000   0.000000  10.780000   \n",
      "6                16                 16LV18    0.000000   0.000000   0.000000   \n",
      "7                28                 28MA19    1.683871   0.561290   0.000000   \n",
      "8                24                 24KU20   22.672727  13.603636   3.400909   \n",
      "9                20                 20KS20    0.000000   0.000000   1.933333   \n",
      "10               28                 28LV20    1.530000   0.000000   0.000000   \n",
      "11               28                 28MA18   22.087500   3.786429   2.524286   \n",
      "12               24                 24KU19   12.681818   7.609091   1.902273   \n",
      "13               20                 20KS21    0.000000   0.000000  40.300000   \n",
      "14               32                 32MA19  107.482771  13.199639   7.542651   \n",
      "15               28                 28KU20   27.450476   5.056667   3.611905   \n",
      "16               20                 20KS21    0.000000   0.000000  38.850000   \n",
      "17               12                 12KU18    0.000000   0.000000   3.900000   \n",
      "18               12                 12KS16    0.000000   0.000000  19.500000   \n",
      "19               12                 12LV16    0.000000   0.000000   0.000000   \n",
      "20               20                 20KU17    0.000000   4.712500   1.450000   \n",
      "21               20                 20LV16    0.000000   0.000000   0.000000   \n",
      "22               28                 28MA18   18.850000   3.231429   2.154286   \n",
      "23               24                 24KU20   68.018182  40.810909  10.202727   \n",
      "24               20                 20KS21    0.000000   0.000000  19.885714   \n",
      "25                8                  8KU20    0.000000   0.000000   0.000000   \n",
      "26               12                 12KS16    0.000000   0.000000   9.200000   \n",
      "27               12                 12LV16    0.000000   0.000000   0.000000   \n",
      "28               12                 12KS16    0.000000   0.000000   2.357143   \n",
      "29               12                 12LV16    0.000000   0.000000   0.000000   \n",
      "\n",
      "         küte    jäätmed  \n",
      "0    0.000000   0.000000  \n",
      "1    0.000000   2.910400  \n",
      "2    0.138125   0.552500  \n",
      "3    0.000000   0.000000  \n",
      "4    0.000000  13.955200  \n",
      "5    0.000000   2.940000  \n",
      "6    2.874667   1.045333  \n",
      "7    0.093548   0.561290  \n",
      "8    0.000000  10.202727  \n",
      "9    0.000000   0.676667  \n",
      "10   0.450000   0.630000  \n",
      "11   0.000000   6.941786  \n",
      "12   0.000000   5.706818  \n",
      "13   4.030000  12.090000  \n",
      "14   0.000000  28.284940  \n",
      "15   1.444762   7.946190  \n",
      "16   3.885000  11.655000  \n",
      "17   0.000000   1.560000  \n",
      "18   0.000000   7.800000  \n",
      "19  16.380000   2.730000  \n",
      "20   0.725000   1.812500  \n",
      "21  20.187500   5.312500  \n",
      "22   0.000000   5.924286  \n",
      "23   0.000000  30.608182  \n",
      "24   1.988571   5.965714  \n",
      "25   3.680000   3.680000  \n",
      "26   0.000000   3.680000  \n",
      "27  31.542857   5.257143  \n",
      "28   0.000000   0.942857  \n",
      "29  20.931429   3.488571  \n"
     ]
    }
   ],
   "source": [
    "cadastral_data = pd.merge(cadastral_data, \n",
    "                     log_volume_distribution, \n",
    "                     left_on='Sortimendi jaotusklass', \n",
    "                     right_on='d klass+pl+h24 x m', \n",
    "                     how='inner')\n",
    "\n",
    "# Calculating proportions for each row\n",
    "columns_to_multiply = ['palk', 'peenp', 'paber', 'küte', 'jäätmed']\n",
    "\n",
    "# A loop that multiplys type proportion columns by 'Tagavara m3' column values.\n",
    "for column in columns_to_multiply:\n",
    "    cadastral_data[column] = cadastral_data[column] * cadastral_data['Tagavara m3']\n",
    "\n",
    "# Dropping unnecessary columns from the table.\n",
    "cadastral_data = cadastral_data.drop(columns=['d klass+pl+h24 x m', 'kõrgus', 'kokku','Name_ENG'])\n",
    "\n",
    "print(\"Lõplik katastriandmete tabel:\")\n",
    "print(cadastral_data)"
   ]
  },
  {
   "cell_type": "markdown",
   "id": "5c7fabc8",
   "metadata": {},
   "source": [
    "### Creating a new dataframe to sum up 'Maht' and 'Hind'"
   ]
  },
  {
   "cell_type": "code",
   "execution_count": 12,
   "id": "76a6f372",
   "metadata": {},
   "outputs": [
    {
     "name": "stdout",
     "output_type": "stream",
     "text": [
      "Lõplik mahu ja hinna tabel:\n",
      "                Sortiment  Maht (tm)  Summa (€)\n",
      "0                 Ma palk      150.1    14259.9\n",
      "1                 Ku palk      130.8    12428.2\n",
      "2            Ks palk/pakk        0.0        0.0\n",
      "3   Teised liigid/Lv palk        1.5       76.5\n",
      "4             Ma peenpalk       20.8     1329.8\n",
      "5             Ku peenpalk      130.8     8372.6\n",
      "6           Ma paberipuit       12.2      757.7\n",
      "7           Ku paberipuit       54.0     3346.9\n",
      "8           Ks paberipuit      144.3     7216.3\n",
      "9               Küttepuit      108.4     4225.7\n",
      "10                Jäätmed      184.9      554.6\n",
      "11                  Kokku      937.8    52568.3\n"
     ]
    }
   ],
   "source": [
    "# Define the mapping between Sortiment, source (Name_EE + column), and price names\n",
    "mappings = [\n",
    "    (\"Ma palk\",        (\"MA\", \"palk\"),   \"Ma palk\"),\n",
    "    (\"Ku palk\",        (\"KU\", \"palk\"),   \"Ku palk\"),\n",
    "    (\"Ks palk/pakk\",   (\"KS\", \"palk\"),   \"Ks palk/pakk\"),\n",
    "    (\"Teised liigid/Lv palk\", (\"LV\", \"palk\"), \"Lv palk\"),\n",
    "    (\"Ma peenpalk\",    (\"MA\", \"peenp\"),  \"Ma peenpalk\"),\n",
    "    (\"Ku peenpalk\",    (\"KU\", \"peenp\"),  \"Ku peenpalk\"),\n",
    "    (\"Ma paberipuit\",  (\"MA\", \"paber\"),  \"Ma paberipuit\"),\n",
    "    (\"Ku paberipuit\",  (\"KU\", \"paber\"),  \"Ku paberipuit\"),\n",
    "    (\"Ks paberipuit\",  (\"KS\", \"paber\"),  \"Ks paberipuit\"),\n",
    "    (\"Küttepuit\",      (None, \"küte\"),   \"Küttepuit\"),\n",
    "    (\"Jäätmed\",        (None, \"jäätmed\"),\"Jäätmed\"),\n",
    "]\n",
    "rows = []\n",
    "for sortiment, (name_ee, col), price_name in mappings:\n",
    "    if name_ee:  # sum by Name_EE + column\n",
    "        volume = cadastral_data.loc[cadastral_data[\"Name_EE\"] == name_ee, col].sum()\n",
    "    else:        # global sum\n",
    "        volume = cadastral_data[col].sum()\n",
    "    # find matching price\n",
    "    price = wood_prices.loc[wood_prices[\"Sortiment\"] == price_name, \"Hind (€/tm)\"].squeeze()\n",
    "    rows.append({\n",
    "        \"Sortiment\": sortiment,\n",
    "        \"Maht (tm)\": volume,\n",
    "        \"Summa (€)\": volume * price\n",
    "    })\n",
    "# Create DataFrame\n",
    "total_volume_and_amount = pd.DataFrame(rows)\n",
    "# Add total row\n",
    "total_volume_and_amount.loc[len(total_volume_and_amount)] = {\n",
    "    \"Sortiment\": \"Kokku\",\n",
    "    \"Maht (tm)\": total_volume_and_amount[\"Maht (tm)\"].sum(),\n",
    "    \"Summa (€)\": total_volume_and_amount[\"Summa (€)\"].sum()\n",
    "}\n",
    "# Round results\n",
    "total_volume_and_amount[\"Maht (tm)\"] = total_volume_and_amount[\"Maht (tm)\"].round(1)\n",
    "total_volume_and_amount[\"Summa (€)\"] = total_volume_and_amount[\"Summa (€)\"].round(1)\n",
    "\n",
    "print(\"Lõplik mahu ja hinna tabel:\")\n",
    "print(total_volume_and_amount)"
   ]
  },
  {
   "cell_type": "markdown",
   "id": "c1d041bf",
   "metadata": {},
   "source": [
    "### Creating a new dataframe to get recommended starting bid"
   ]
  },
  {
   "cell_type": "code",
   "execution_count": 13,
   "id": "db38f536",
   "metadata": {},
   "outputs": [
    {
     "name": "stdout",
     "output_type": "stream",
     "text": [
      "Katastriüksuse hinnanguline väärtus:\n",
      "                          Väärtus Ühik\n",
      "Maht kokku                  937.8   tm\n",
      "Tulud kokku               52568.3    €\n",
      "Kulud (jäätmeteta)        15810.9    €\n",
      "Tulud-Kulud (jäätmeteta)  36757.4    €\n",
      "Soovituslik alghind       33081.7    €\n"
     ]
    }
   ],
   "source": [
    "# Extract key values\n",
    "maht_kokku = total_volume_and_amount.at[total_volume_and_amount.index[total_volume_and_amount['Sortiment'] == 'Kokku'][0], 'Maht (tm)']\n",
    "hind_kokku = total_volume_and_amount.at[total_volume_and_amount.index[total_volume_and_amount['Sortiment'] == 'Kokku'][0], 'Summa (€)']\n",
    "maht_jaatmeteta = total_volume_and_amount.loc[\n",
    "    ~total_volume_and_amount['Sortiment'].isin(['Jäätmed', 'Kokku']),\n",
    "    'Maht (tm)'\n",
    "].sum()\n",
    "# Calculations\n",
    "kulud_tm = kulud[\"Kompleksteenus(€/tm)\"] + kulud[\"Transport (€/tm)\"]\n",
    "kulud_jaatmeteta = maht_jaatmeteta * kulud_tm\n",
    "tulud_kulud_jaatmeteta = hind_kokku - kulud_jaatmeteta\n",
    "soovituslik_alghind = tulud_kulud_jaatmeteta * (1 - kulud[\"Alghinna(%)\"] / 100)\n",
    "# Build result table\n",
    "results = {\n",
    "    \"Maht kokku\":              (maht_kokku, \"tm\"),\n",
    "    \"Tulud kokku\":             (hind_kokku, \"€\"),\n",
    "    \"Kulud (jäätmeteta)\":      (kulud_jaatmeteta, \"€\"),\n",
    "    \"Tulud-Kulud (jäätmeteta)\":(tulud_kulud_jaatmeteta, \"€\"),\n",
    "    \"Soovituslik alghind\":     (soovituslik_alghind, \"€\"),\n",
    "}\n",
    "cadastral_data_summary = (\n",
    "    pd.DataFrame.from_dict(results, orient=\"index\", columns=[\"Väärtus\", \"Ühik\"])\n",
    "    .assign(Väärtus=lambda df: df[\"Väärtus\"].round(1))\n",
    ")\n",
    "\n",
    "print(\"Katastriüksuse hinnanguline väärtus:\")\n",
    "print(cadastral_data_summary)"
   ]
  },
  {
   "cell_type": "markdown",
   "id": "e1a74305",
   "metadata": {},
   "source": [
    "### Cadastral summary in Excel."
   ]
  },
  {
   "cell_type": "code",
   "execution_count": 14,
   "id": "45e55ce2",
   "metadata": {},
   "outputs": [],
   "source": [
    "#with pd.ExcelWriter('Cadastral_summary.xlsx') as writer:\n",
    "   # cadastral_data.to_excel(writer, sheet_name='Katastriandmed', index=False)\n",
    "   # total_volume_and_amount.to_excel(writer, sheet_name='Maht ja hind', index=False)\n",
    "   # cadastral_data_summary.to_excel(writer, sheet_name='Kokkuvõte')"
   ]
  }
 ],
 "metadata": {
  "kernelspec": {
   "display_name": "Python 3",
   "language": "python",
   "name": "python3"
  },
  "language_info": {
   "codemirror_mode": {
    "name": "ipython",
    "version": 3
   },
   "file_extension": ".py",
   "mimetype": "text/x-python",
   "name": "python",
   "nbconvert_exporter": "python",
   "pygments_lexer": "ipython3",
   "version": "3.13.7"
  }
 },
 "nbformat": 4,
 "nbformat_minor": 5
}
