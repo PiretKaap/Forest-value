{
 "cells": [
  {
   "cell_type": "markdown",
   "id": "256a6c97",
   "metadata": {},
   "source": [
    "### Reading in the JSON file for a specific cadastral."
   ]
  },
  {
   "cell_type": "code",
   "execution_count": 64,
   "id": "a24f6ea2",
   "metadata": {},
   "outputs": [
    {
     "name": "stdout",
     "output_type": "stream",
     "text": [
      "  stand_number  total_area_ha  pine_total_volume_m3_ha  \\\n",
      "0            0           0.17                        0   \n",
      "1            1           0.98                        0   \n",
      "2            2           0.29                       10   \n",
      "3            3           0.62                       57   \n",
      "4            4           1.11                      141   \n",
      "5            5           2.73                        0   \n",
      "6            6           0.30                        0   \n",
      "7            7           1.16                       26   \n",
      "8            8           1.84                        0   \n",
      "9            9           0.66                        0   \n",
      "\n",
      "   spruce_total_volume_m3_ha  birch_total_volume_m3_ha  \\\n",
      "0                        107                        13   \n",
      "1                         89                        14   \n",
      "2                        172                         9   \n",
      "3                         45                        91   \n",
      "4                         41                        49   \n",
      "5                          2                        10   \n",
      "6                         29                         0   \n",
      "7                        129                        24   \n",
      "8                          4                         7   \n",
      "9                          0                         5   \n",
      "\n",
      "   other_deciduous_total_volume_m3_ha  pine_bam_height_m  spruce_bam_height_m  \\\n",
      "0                                   0                9.2                 13.7   \n",
      "1                                   4                0.0                 13.7   \n",
      "2                                   9               19.5                 18.9   \n",
      "3                                   0               18.9                 17.5   \n",
      "4                                   0               20.3                 19.7   \n",
      "5                                   7                0.0                  7.3   \n",
      "6                                  85                0.0                 13.4   \n",
      "7                                   0               18.8                 18.4   \n",
      "8                                  20                0.0                  7.0   \n",
      "9                                  37                0.0                  0.0   \n",
      "\n",
      "   birch_bam_height_m  other_deciduous_bam_height_m  pine_bam_dbh_cm  \\\n",
      "0                14.8                          15.9               12   \n",
      "1                13.2                          14.6                0   \n",
      "2                17.9                          20.2               28   \n",
      "3                17.6                           0.0               28   \n",
      "4                19.1                           0.0               29   \n",
      "5                 8.5                           9.1                0   \n",
      "6                 0.0                          13.2                0   \n",
      "7                18.0                           0.0               27   \n",
      "8                 7.4                           7.9                0   \n",
      "9                 8.1                           8.5                0   \n",
      "\n",
      "   spruce_bam_dbh_cm  birch_bam_dbh_cm  other_deciduous_bam_dbh_cm  \n",
      "0                 17                15                          18  \n",
      "1                 17                16                          16  \n",
      "2                 22                19                          25  \n",
      "3                 22                17                           0  \n",
      "4                 25                19                           0  \n",
      "5                  9                10                          11  \n",
      "6                 17                 0                          17  \n",
      "7                 21                18                           0  \n",
      "8                  8                 9                          10  \n",
      "9                  0                10                          10  \n"
     ]
    }
   ],
   "source": [
    "import json\n",
    "import pandas as pd\n",
    "from pandas import json_normalize\n",
    "# Reading in the JSON file for a specific cadastral.\n",
    "with open(\"response_1758028130935.json\", 'r', encoding='utf-8') as json_file:\n",
    "    json_data = json.load(json_file)\n",
    "# Create data table for stands.\n",
    "    df = json_normalize(json_data [\"stands\"])\n",
    "# Create data table for necessary columns. \n",
    "    necessary_columns = df[[\"stand_number\", \"total_area_ha\", \"pine_total_volume_m3_ha\", \"spruce_total_volume_m3_ha\",\n",
    "      \"birch_total_volume_m3_ha\", \"other_deciduous_total_volume_m3_ha\", \"pine_bam_height_m\", \"spruce_bam_height_m\", \"birch_bam_height_m\",\n",
    "      \"other_deciduous_bam_height_m\", \"pine_bam_dbh_cm\",\"spruce_bam_dbh_cm\", \"birch_bam_dbh_cm\", \"other_deciduous_bam_dbh_cm\"]]\n",
    "# Printing the table out. \n",
    "print(necessary_columns)\n",
    "\n",
    "#necessary_columns_renamed = df.rename(columns={'stand_number': 'Eraldise nr', '': 'expenses', 'kasum': 'profit'})\n"
   ]
  },
  {
   "cell_type": "code",
   "execution_count": null,
   "id": "b47b1a21",
   "metadata": {},
   "outputs": [
    {
     "name": "stdout",
     "output_type": "stream",
     "text": [
      "   Stand nr          Species  Height, m  Diameter, cm  Volume m3/ha  Area, ha\n",
      "0         0             pine        NaN           NaN           NaN       NaN\n",
      "1         0            birch        NaN           NaN           NaN       NaN\n",
      "2         0           spruce        NaN           NaN           NaN       NaN\n",
      "3         0  other_deciduous        NaN           NaN           NaN       NaN\n",
      "4         1             pine        NaN           NaN           NaN       NaN\n",
      "5         1            birch        NaN           NaN           NaN       NaN\n",
      "6         1           spruce        NaN           NaN           NaN       NaN\n",
      "7         1  other_deciduous        NaN           NaN           NaN       NaN\n",
      "8         2             pine        NaN           NaN           NaN       NaN\n",
      "9         2            birch        NaN           NaN           NaN       NaN\n",
      "10        2           spruce        NaN           NaN           NaN       NaN\n",
      "11        2  other_deciduous        NaN           NaN           NaN       NaN\n",
      "12        3             pine        NaN           NaN           NaN       NaN\n",
      "13        3            birch        NaN           NaN           NaN       NaN\n",
      "14        3           spruce        NaN           NaN           NaN       NaN\n",
      "15        3  other_deciduous        NaN           NaN           NaN       NaN\n",
      "16        4             pine        NaN           NaN           NaN       NaN\n",
      "17        4            birch        NaN           NaN           NaN       NaN\n",
      "18        4           spruce        NaN           NaN           NaN       NaN\n",
      "19        4  other_deciduous        NaN           NaN           NaN       NaN\n",
      "20        5             pine        NaN           NaN           NaN       NaN\n",
      "21        5            birch        NaN           NaN           NaN       NaN\n",
      "22        5           spruce        NaN           NaN           NaN       NaN\n",
      "23        5  other_deciduous        NaN           NaN           NaN       NaN\n",
      "24        6             pine        NaN           NaN           NaN       NaN\n",
      "25        6            birch        NaN           NaN           NaN       NaN\n",
      "26        6           spruce        NaN           NaN           NaN       NaN\n",
      "27        6  other_deciduous        NaN           NaN           NaN       NaN\n",
      "28        7             pine        NaN           NaN           NaN       NaN\n",
      "29        7            birch        NaN           NaN           NaN       NaN\n",
      "30        7           spruce        NaN           NaN           NaN       NaN\n",
      "31        7  other_deciduous        NaN           NaN           NaN       NaN\n",
      "32        8             pine        NaN           NaN           NaN       NaN\n",
      "33        8            birch        NaN           NaN           NaN       NaN\n",
      "34        8           spruce        NaN           NaN           NaN       NaN\n",
      "35        8  other_deciduous        NaN           NaN           NaN       NaN\n",
      "36        9             pine        NaN           NaN           NaN       NaN\n",
      "37        9            birch        NaN           NaN           NaN       NaN\n",
      "38        9           spruce        NaN           NaN           NaN       NaN\n",
      "39        9  other_deciduous        NaN           NaN           NaN       NaN\n"
     ]
    }
   ],
   "source": [
    "species_list = ['pine', 'birch', 'spruce', 'other_deciduous']\n",
    "new_data = []\n",
    "\n",
    "# Loop through each stand number and species to create a list of dictionaries\n",
    "for stand_nr in necessary_columns['stand_number'].unique():\n",
    "    for species in species_list:\n",
    "        new_data.append({'Stand nr': stand_nr, 'Species': species})\n",
    "\n",
    "# Create the final DataFrame directly from the list of dictionaries\n",
    "df_final = pd.DataFrame(new_data, columns=['Stand nr', 'Species', 'Height, m', 'Diameter, cm', 'Volume, m3/ha', 'Area, ha'])\n",
    "\n",
    "print(df_final)"
   ]
  },
  {
   "cell_type": "markdown",
   "id": "518b362f",
   "metadata": {},
   "source": [
    "### Reading in EXCEL file for Tree Names."
   ]
  },
  {
   "cell_type": "code",
   "execution_count": 35,
   "id": "27787954",
   "metadata": {},
   "outputs": [
    {
     "name": "stdout",
     "output_type": "stream",
     "text": [
      "   Name_EE Name_ENG\n",
      "0       MA     pine\n",
      "1       KU   spruce\n",
      "2       KS    birch\n",
      "3       LV      NaN\n",
      "4       HB      NaN\n",
      "5       LM      NaN\n",
      "6       TA      NaN\n",
      "7       SA      NaN\n",
      "8       VA      NaN\n",
      "9       PP      NaN\n",
      "10      PN      NaN\n",
      "11      NU      NaN\n",
      "12      LH      NaN\n",
      "13      SD      NaN\n",
      "14      TS      NaN\n",
      "15      JA      NaN\n",
      "16      KP      NaN\n",
      "17      RE      NaN\n",
      "18      TM      NaN\n",
      "19      PI      NaN\n",
      "20      TO      NaN\n",
      "21      TL      NaN\n"
     ]
    },
    {
     "name": "stderr",
     "output_type": "stream",
     "text": [
      "<>:3: SyntaxWarning: invalid escape sequence '\\T'\n",
      "<>:3: SyntaxWarning: invalid escape sequence '\\T'\n",
      "C:\\Users\\opilane\\AppData\\Local\\Temp\\ipykernel_10492\\1070338126.py:3: SyntaxWarning: invalid escape sequence '\\T'\n",
      "  Tree_Name ='Data_Sources\\Tree_Name_mapping.xlsx'\n"
     ]
    }
   ],
   "source": [
    "import pandas as pd\n",
    "# Reading in EXCEL file for Tree Names.\n",
    "Tree_Name ='Data_Sources\\Tree_Name_mapping.xlsx'\n",
    "df_Tree_Name = pd.read_excel(Tree_Name)\n",
    "# Printing the table out.\n",
    "print(df_Tree_Name)\n"
   ]
  },
  {
   "cell_type": "markdown",
   "id": "994a633b",
   "metadata": {},
   "source": [
    "### Merging two tables"
   ]
  },
  {
   "cell_type": "code",
   "execution_count": 37,
   "id": "f58cd2f6",
   "metadata": {},
   "outputs": [
    {
     "name": "stdout",
     "output_type": "stream",
     "text": [
      "  stand_number main_species  total_area_ha  total_volume_m3_ha  \\\n",
      "0            3         pine           0.55                 185   \n",
      "1            4         pine           0.78                 188   \n",
      "2            5         none           0.37                   0   \n",
      "3            6         pine           0.25                 133   \n",
      "\n",
      "   pine_bam_height_m  spruce_bam_height_m  birch_bam_height_m  \\\n",
      "0               15.8                    0                   0   \n",
      "1               16.6                    0                   0   \n",
      "2                0.0                    0                   0   \n",
      "3               13.7                    0                   0   \n",
      "\n",
      "   other_deciduous_bam_height_m  bam_dbh_cm Name_EE Name_ENG  \n",
      "0                             0          20      MA     pine  \n",
      "1                             0          22      MA     pine  \n",
      "2                             0           0     NaN      NaN  \n",
      "3                             0          19      MA     pine  \n"
     ]
    }
   ],
   "source": [
    "# Merging two tables on main species names and adding Name_EE, Name_ENG.\n",
    "df_names_added = pd.merge(necessary_columns,df_Tree_Name , left_on='main_species', right_on='Name_ENG', how='left')\n",
    "print(df_names_added)"
   ]
  },
  {
   "cell_type": "markdown",
   "id": "e37afc7d",
   "metadata": {},
   "source": [
    "### Reading in EXCEL file for relative height"
   ]
  },
  {
   "cell_type": "code",
   "execution_count": 33,
   "id": "728de5dc",
   "metadata": {},
   "outputs": [
    {
     "name": "stdout",
     "output_type": "stream",
     "text": [
      "     d      MA     KU      KS      LV      HB      LM      TA      SA      VA  \\\n",
      "0    8  0.4300  0.350  0.5500  0.5500  0.5200  0.5200  0.3800  0.3800  0.3800   \n",
      "1    9  0.5000  0.410  0.6000  0.6000  0.5700  0.5700  0.4400  0.4400  0.4400   \n",
      "2   10  0.5500  0.470  0.6400  0.6400  0.6200  0.6200  0.5000  0.5000  0.5000   \n",
      "3   11  0.6100  0.530  0.6800  0.6800  0.6600  0.6600  0.5500  0.5500  0.5500   \n",
      "4   12  0.6500  0.580  0.7200  0.7200  0.7000  0.7000  0.6000  0.6000  0.6000   \n",
      "5   13  0.7000  0.630  0.7600  0.7600  0.7400  0.7400  0.6500  0.6500  0.6500   \n",
      "6   14  0.7400  0.680  0.7900  0.7900  0.7700  0.7700  0.7000  0.7000  0.7000   \n",
      "7   15  0.7700  0.720  0.8200  0.8200  0.8000  0.8000  0.7400  0.7400  0.7400   \n",
      "8   16  0.8100  0.760  0.8400  0.8400  0.8300  0.8300  0.7700  0.7700  0.7700   \n",
      "9   17  0.8400  0.800  0.8700  0.8700  0.8600  0.8600  0.8100  0.8100  0.8100   \n",
      "10  18  0.8700  0.830  0.8900  0.8900  0.8800  0.8800  0.8400  0.8400  0.8400   \n",
      "11  19  0.8900  0.860  0.9100  0.9100  0.9100  0.9100  0.8700  0.8700  0.8700   \n",
      "12  20  0.9200  0.890  0.9300  0.9300  0.9300  0.9300  0.9000  0.9000  0.9000   \n",
      "13  21  0.9400  0.920  0.9500  0.9500  0.9500  0.9500  0.9250  0.9250  0.9250   \n",
      "14  22  0.9600  0.950  0.9700  0.9700  0.9700  0.9700  0.9500  0.9500  0.9500   \n",
      "15  23  0.9800  0.975  0.9850  0.9850  0.9850  0.9850  0.9750  0.9750  0.9750   \n",
      "16  24  1.0000  1.000  1.0000  1.0000  1.0000  1.0000  1.0000  1.0000  1.0000   \n",
      "17  25  1.0150  1.020  1.0150  1.0150  1.0150  1.0150  1.0200  1.0200  1.0200   \n",
      "18  26  1.0300  1.040  1.0300  1.0300  1.0300  1.0300  1.0400  1.0400  1.0400   \n",
      "19  27  1.0450  1.060  1.0400  1.0400  1.0450  1.0450  1.0600  1.0600  1.0600   \n",
      "20  28  1.0600  1.080  1.0500  1.0500  1.0600  1.0600  1.0800  1.0800  1.0800   \n",
      "21  29  1.0750  1.100  1.0650  1.0650  1.0700  1.0700  1.0950  1.0950  1.0950   \n",
      "22  30  1.0900  1.120  1.0800  1.0800  1.0800  1.0800  1.1100  1.1100  1.1100   \n",
      "23  31  1.1050  1.135  1.0900  1.0900  1.0900  1.0900  1.1250  1.1250  1.1250   \n",
      "24  32  1.1200  1.150  1.1000  1.1000  1.1000  1.1000  1.1400  1.1400  1.1400   \n",
      "25  33  1.1300  1.165  1.1100  1.1100  1.1100  1.1100  1.1525  1.1525  1.1525   \n",
      "26  34  1.1400  1.180  1.1200  1.1200  1.1200  1.1200  1.1650  1.1650  1.1650   \n",
      "27  35  1.1500  1.195  1.1300  1.1300  1.1300  1.1300  1.1775  1.1775  1.1775   \n",
      "28  36  1.1600  1.210  1.1400  1.1400  1.1400  1.1400  1.1900  1.1900  1.1900   \n",
      "29  37  1.1675  1.220  1.1475  1.1475  1.1475  1.1475  1.2000  1.2000  1.2000   \n",
      "30  38  1.1750  1.230  1.1550  1.1550  1.1550  1.1550  1.2100  1.2100  1.2100   \n",
      "31  39  1.1825  1.240  1.1625  1.1625  1.1625  1.1625  1.2200  1.2200  1.2200   \n",
      "32  40  1.1900  1.250  1.1700  1.1700  1.1700  1.1700  1.2300  1.2300  1.2300   \n",
      "\n",
      "    ...      LH      SD     TS      JA      KP      RE      TM      PI  \\\n",
      "0   ...  0.4300  0.4300  0.350  0.3800  0.3800  0.5500  0.5500  0.5500   \n",
      "1   ...  0.5000  0.5000  0.410  0.4400  0.4400  0.6000  0.6000  0.6000   \n",
      "2   ...  0.5500  0.5500  0.470  0.5000  0.5000  0.6400  0.6400  0.6400   \n",
      "3   ...  0.6100  0.6100  0.530  0.5500  0.5500  0.6800  0.6800  0.6800   \n",
      "4   ...  0.6500  0.6500  0.580  0.6000  0.6000  0.7200  0.7200  0.7200   \n",
      "5   ...  0.7000  0.7000  0.630  0.6500  0.6500  0.7600  0.7600  0.7600   \n",
      "6   ...  0.7400  0.7400  0.680  0.7000  0.7000  0.7900  0.7900  0.7900   \n",
      "7   ...  0.7700  0.7700  0.720  0.7400  0.7400  0.8200  0.8200  0.8200   \n",
      "8   ...  0.8100  0.8100  0.760  0.7700  0.7700  0.8400  0.8400  0.8400   \n",
      "9   ...  0.8400  0.8400  0.800  0.8100  0.8100  0.8700  0.8700  0.8700   \n",
      "10  ...  0.8700  0.8700  0.830  0.8400  0.8400  0.8900  0.8900  0.8900   \n",
      "11  ...  0.8900  0.8900  0.860  0.8700  0.8700  0.9100  0.9100  0.9100   \n",
      "12  ...  0.9200  0.9200  0.890  0.9000  0.9000  0.9300  0.9300  0.9300   \n",
      "13  ...  0.9400  0.9400  0.920  0.9250  0.9250  0.9500  0.9500  0.9500   \n",
      "14  ...  0.9600  0.9600  0.950  0.9500  0.9500  0.9700  0.9700  0.9700   \n",
      "15  ...  0.9800  0.9800  0.975  0.9750  0.9750  0.9850  0.9850  0.9850   \n",
      "16  ...  1.0000  1.0000  1.000  1.0000  1.0000  1.0000  1.0000  1.0000   \n",
      "17  ...  1.0150  1.0150  1.020  1.0200  1.0200  1.0150  1.0150  1.0150   \n",
      "18  ...  1.0300  1.0300  1.040  1.0400  1.0400  1.0300  1.0300  1.0300   \n",
      "19  ...  1.0450  1.0450  1.060  1.0600  1.0600  1.0400  1.0400  1.0400   \n",
      "20  ...  1.0600  1.0600  1.080  1.0800  1.0800  1.0500  1.0500  1.0500   \n",
      "21  ...  1.0750  1.0750  1.100  1.0950  1.0950  1.0650  1.0650  1.0650   \n",
      "22  ...  1.0900  1.0900  1.120  1.1100  1.1100  1.0800  1.0800  1.0800   \n",
      "23  ...  1.1050  1.1050  1.135  1.1250  1.1250  1.0900  1.0900  1.0900   \n",
      "24  ...  1.1200  1.1200  1.150  1.1400  1.1400  1.1000  1.1000  1.1000   \n",
      "25  ...  1.1300  1.1300  1.165  1.1525  1.1525  1.1100  1.1100  1.1100   \n",
      "26  ...  1.1400  1.1400  1.180  1.1650  1.1650  1.1200  1.1200  1.1200   \n",
      "27  ...  1.1500  1.1500  1.195  1.1775  1.1775  1.1300  1.1300  1.1300   \n",
      "28  ...  1.1600  1.1600  1.210  1.1900  1.1900  1.1400  1.1400  1.1400   \n",
      "29  ...  1.1675  1.1675  1.220  1.2000  1.2000  1.1475  1.1475  1.1475   \n",
      "30  ...  1.1750  1.1750  1.230  1.2100  1.2100  1.1550  1.1550  1.1550   \n",
      "31  ...  1.1825  1.1825  1.240  1.2200  1.2200  1.1625  1.1625  1.1625   \n",
      "32  ...  1.1900  1.1900  1.250  1.2300  1.2300  1.1700  1.1700  1.1700   \n",
      "\n",
      "        TO      TL  \n",
      "0   0.4300  0.5500  \n",
      "1   0.5000  0.6000  \n",
      "2   0.5500  0.6400  \n",
      "3   0.6100  0.6800  \n",
      "4   0.6500  0.7200  \n",
      "5   0.7000  0.7600  \n",
      "6   0.7400  0.7900  \n",
      "7   0.7700  0.8200  \n",
      "8   0.8100  0.8400  \n",
      "9   0.8400  0.8700  \n",
      "10  0.8700  0.8900  \n",
      "11  0.8900  0.9100  \n",
      "12  0.9200  0.9300  \n",
      "13  0.9400  0.9500  \n",
      "14  0.9600  0.9700  \n",
      "15  0.9800  0.9850  \n",
      "16  1.0000  1.0000  \n",
      "17  1.0150  1.0150  \n",
      "18  1.0300  1.0300  \n",
      "19  1.0450  1.0400  \n",
      "20  1.0600  1.0500  \n",
      "21  1.0750  1.0650  \n",
      "22  1.0900  1.0800  \n",
      "23  1.1050  1.0900  \n",
      "24  1.1200  1.1000  \n",
      "25  1.1300  1.1100  \n",
      "26  1.1400  1.1200  \n",
      "27  1.1500  1.1300  \n",
      "28  1.1600  1.1400  \n",
      "29  1.1675  1.1475  \n",
      "30  1.1750  1.1550  \n",
      "31  1.1825  1.1625  \n",
      "32  1.1900  1.1700  \n",
      "\n",
      "[33 rows x 23 columns]\n"
     ]
    }
   ],
   "source": [
    "import pandas as pd\n",
    "# Reading in EXCEL file for relative height.\n",
    "h24 ='Data_Sources/h24.xlsx'\n",
    "df_relative_heights = pd.read_excel(h24)\n",
    "# Printing the table out.\n",
    "print(df_relative_heights)\n"
   ]
  },
  {
   "cell_type": "code",
   "execution_count": null,
   "id": "fd598058",
   "metadata": {},
   "outputs": [],
   "source": []
  },
  {
   "cell_type": "code",
   "execution_count": 34,
   "id": "27d4864c",
   "metadata": {},
   "outputs": [
    {
     "ename": "FileNotFoundError",
     "evalue": "[Errno 2] No such file or directory: 'Data_Sources/Tüüpide proportsioonid.xlsx'",
     "output_type": "error",
     "traceback": [
      "\u001b[31m---------------------------------------------------------------------------\u001b[39m",
      "\u001b[31mFileNotFoundError\u001b[39m                         Traceback (most recent call last)",
      "\u001b[36mCell\u001b[39m\u001b[36m \u001b[39m\u001b[32mIn[34]\u001b[39m\u001b[32m, line 4\u001b[39m\n\u001b[32m      2\u001b[39m \u001b[38;5;66;03m# Reading in EXCEL file for type proportions.\u001b[39;00m\n\u001b[32m      3\u001b[39m type_proportions =\u001b[33m'\u001b[39m\u001b[33mData_Sources/Tüüpide proportsioonid.xlsx\u001b[39m\u001b[33m'\u001b[39m\n\u001b[32m----> \u001b[39m\u001b[32m4\u001b[39m df_type_proportions = \u001b[43mpd\u001b[49m\u001b[43m.\u001b[49m\u001b[43mread_excel\u001b[49m\u001b[43m(\u001b[49m\u001b[43mtype_proportions\u001b[49m\u001b[43m)\u001b[49m\n\u001b[32m      5\u001b[39m \u001b[38;5;66;03m# Printing the table out.\u001b[39;00m\n\u001b[32m      6\u001b[39m \u001b[38;5;28mprint\u001b[39m(df_type_proportions)\n",
      "\u001b[36mFile \u001b[39m\u001b[32mc:\\Users\\opilane\\AppData\\Local\\Programs\\Python\\Python313\\Lib\\site-packages\\pandas\\io\\excel\\_base.py:495\u001b[39m, in \u001b[36mread_excel\u001b[39m\u001b[34m(io, sheet_name, header, names, index_col, usecols, dtype, engine, converters, true_values, false_values, skiprows, nrows, na_values, keep_default_na, na_filter, verbose, parse_dates, date_parser, date_format, thousands, decimal, comment, skipfooter, storage_options, dtype_backend, engine_kwargs)\u001b[39m\n\u001b[32m    493\u001b[39m \u001b[38;5;28;01mif\u001b[39;00m \u001b[38;5;129;01mnot\u001b[39;00m \u001b[38;5;28misinstance\u001b[39m(io, ExcelFile):\n\u001b[32m    494\u001b[39m     should_close = \u001b[38;5;28;01mTrue\u001b[39;00m\n\u001b[32m--> \u001b[39m\u001b[32m495\u001b[39m     io = \u001b[43mExcelFile\u001b[49m\u001b[43m(\u001b[49m\n\u001b[32m    496\u001b[39m \u001b[43m        \u001b[49m\u001b[43mio\u001b[49m\u001b[43m,\u001b[49m\n\u001b[32m    497\u001b[39m \u001b[43m        \u001b[49m\u001b[43mstorage_options\u001b[49m\u001b[43m=\u001b[49m\u001b[43mstorage_options\u001b[49m\u001b[43m,\u001b[49m\n\u001b[32m    498\u001b[39m \u001b[43m        \u001b[49m\u001b[43mengine\u001b[49m\u001b[43m=\u001b[49m\u001b[43mengine\u001b[49m\u001b[43m,\u001b[49m\n\u001b[32m    499\u001b[39m \u001b[43m        \u001b[49m\u001b[43mengine_kwargs\u001b[49m\u001b[43m=\u001b[49m\u001b[43mengine_kwargs\u001b[49m\u001b[43m,\u001b[49m\n\u001b[32m    500\u001b[39m \u001b[43m    \u001b[49m\u001b[43m)\u001b[49m\n\u001b[32m    501\u001b[39m \u001b[38;5;28;01melif\u001b[39;00m engine \u001b[38;5;129;01mand\u001b[39;00m engine != io.engine:\n\u001b[32m    502\u001b[39m     \u001b[38;5;28;01mraise\u001b[39;00m \u001b[38;5;167;01mValueError\u001b[39;00m(\n\u001b[32m    503\u001b[39m         \u001b[33m\"\u001b[39m\u001b[33mEngine should not be specified when passing \u001b[39m\u001b[33m\"\u001b[39m\n\u001b[32m    504\u001b[39m         \u001b[33m\"\u001b[39m\u001b[33man ExcelFile - ExcelFile already has the engine set\u001b[39m\u001b[33m\"\u001b[39m\n\u001b[32m    505\u001b[39m     )\n",
      "\u001b[36mFile \u001b[39m\u001b[32mc:\\Users\\opilane\\AppData\\Local\\Programs\\Python\\Python313\\Lib\\site-packages\\pandas\\io\\excel\\_base.py:1550\u001b[39m, in \u001b[36mExcelFile.__init__\u001b[39m\u001b[34m(self, path_or_buffer, engine, storage_options, engine_kwargs)\u001b[39m\n\u001b[32m   1548\u001b[39m     ext = \u001b[33m\"\u001b[39m\u001b[33mxls\u001b[39m\u001b[33m\"\u001b[39m\n\u001b[32m   1549\u001b[39m \u001b[38;5;28;01melse\u001b[39;00m:\n\u001b[32m-> \u001b[39m\u001b[32m1550\u001b[39m     ext = \u001b[43minspect_excel_format\u001b[49m\u001b[43m(\u001b[49m\n\u001b[32m   1551\u001b[39m \u001b[43m        \u001b[49m\u001b[43mcontent_or_path\u001b[49m\u001b[43m=\u001b[49m\u001b[43mpath_or_buffer\u001b[49m\u001b[43m,\u001b[49m\u001b[43m \u001b[49m\u001b[43mstorage_options\u001b[49m\u001b[43m=\u001b[49m\u001b[43mstorage_options\u001b[49m\n\u001b[32m   1552\u001b[39m \u001b[43m    \u001b[49m\u001b[43m)\u001b[49m\n\u001b[32m   1553\u001b[39m     \u001b[38;5;28;01mif\u001b[39;00m ext \u001b[38;5;129;01mis\u001b[39;00m \u001b[38;5;28;01mNone\u001b[39;00m:\n\u001b[32m   1554\u001b[39m         \u001b[38;5;28;01mraise\u001b[39;00m \u001b[38;5;167;01mValueError\u001b[39;00m(\n\u001b[32m   1555\u001b[39m             \u001b[33m\"\u001b[39m\u001b[33mExcel file format cannot be determined, you must specify \u001b[39m\u001b[33m\"\u001b[39m\n\u001b[32m   1556\u001b[39m             \u001b[33m\"\u001b[39m\u001b[33man engine manually.\u001b[39m\u001b[33m\"\u001b[39m\n\u001b[32m   1557\u001b[39m         )\n",
      "\u001b[36mFile \u001b[39m\u001b[32mc:\\Users\\opilane\\AppData\\Local\\Programs\\Python\\Python313\\Lib\\site-packages\\pandas\\io\\excel\\_base.py:1402\u001b[39m, in \u001b[36minspect_excel_format\u001b[39m\u001b[34m(content_or_path, storage_options)\u001b[39m\n\u001b[32m   1399\u001b[39m \u001b[38;5;28;01mif\u001b[39;00m \u001b[38;5;28misinstance\u001b[39m(content_or_path, \u001b[38;5;28mbytes\u001b[39m):\n\u001b[32m   1400\u001b[39m     content_or_path = BytesIO(content_or_path)\n\u001b[32m-> \u001b[39m\u001b[32m1402\u001b[39m \u001b[38;5;28;01mwith\u001b[39;00m \u001b[43mget_handle\u001b[49m\u001b[43m(\u001b[49m\n\u001b[32m   1403\u001b[39m \u001b[43m    \u001b[49m\u001b[43mcontent_or_path\u001b[49m\u001b[43m,\u001b[49m\u001b[43m \u001b[49m\u001b[33;43m\"\u001b[39;49m\u001b[33;43mrb\u001b[39;49m\u001b[33;43m\"\u001b[39;49m\u001b[43m,\u001b[49m\u001b[43m \u001b[49m\u001b[43mstorage_options\u001b[49m\u001b[43m=\u001b[49m\u001b[43mstorage_options\u001b[49m\u001b[43m,\u001b[49m\u001b[43m \u001b[49m\u001b[43mis_text\u001b[49m\u001b[43m=\u001b[49m\u001b[38;5;28;43;01mFalse\u001b[39;49;00m\n\u001b[32m   1404\u001b[39m \u001b[43m\u001b[49m\u001b[43m)\u001b[49m \u001b[38;5;28;01mas\u001b[39;00m handle:\n\u001b[32m   1405\u001b[39m     stream = handle.handle\n\u001b[32m   1406\u001b[39m     stream.seek(\u001b[32m0\u001b[39m)\n",
      "\u001b[36mFile \u001b[39m\u001b[32mc:\\Users\\opilane\\AppData\\Local\\Programs\\Python\\Python313\\Lib\\site-packages\\pandas\\io\\common.py:882\u001b[39m, in \u001b[36mget_handle\u001b[39m\u001b[34m(path_or_buf, mode, encoding, compression, memory_map, is_text, errors, storage_options)\u001b[39m\n\u001b[32m    873\u001b[39m         handle = \u001b[38;5;28mopen\u001b[39m(\n\u001b[32m    874\u001b[39m             handle,\n\u001b[32m    875\u001b[39m             ioargs.mode,\n\u001b[32m   (...)\u001b[39m\u001b[32m    878\u001b[39m             newline=\u001b[33m\"\u001b[39m\u001b[33m\"\u001b[39m,\n\u001b[32m    879\u001b[39m         )\n\u001b[32m    880\u001b[39m     \u001b[38;5;28;01melse\u001b[39;00m:\n\u001b[32m    881\u001b[39m         \u001b[38;5;66;03m# Binary mode\u001b[39;00m\n\u001b[32m--> \u001b[39m\u001b[32m882\u001b[39m         handle = \u001b[38;5;28;43mopen\u001b[39;49m\u001b[43m(\u001b[49m\u001b[43mhandle\u001b[49m\u001b[43m,\u001b[49m\u001b[43m \u001b[49m\u001b[43mioargs\u001b[49m\u001b[43m.\u001b[49m\u001b[43mmode\u001b[49m\u001b[43m)\u001b[49m\n\u001b[32m    883\u001b[39m     handles.append(handle)\n\u001b[32m    885\u001b[39m \u001b[38;5;66;03m# Convert BytesIO or file objects passed with an encoding\u001b[39;00m\n",
      "\u001b[31mFileNotFoundError\u001b[39m: [Errno 2] No such file or directory: 'Data_Sources/Tüüpide proportsioonid.xlsx'"
     ]
    }
   ],
   "source": [
    "import pandas as pd\n",
    "# Reading in EXCEL file for type proportions.\n",
    "type_proportions ='Data_Sources/Tüüpide proportsioonid.xlsx'\n",
    "df_type_proportions = pd.read_excel(type_proportions)\n",
    "# Printing the table out.\n",
    "print(df_type_proportions)"
   ]
  },
  {
   "cell_type": "code",
   "execution_count": null,
   "id": "2798e0c7",
   "metadata": {},
   "outputs": [],
   "source": []
  }
 ],
 "metadata": {
  "kernelspec": {
   "display_name": "Python 3",
   "language": "python",
   "name": "python3"
  },
  "language_info": {
   "codemirror_mode": {
    "name": "ipython",
    "version": 3
   },
   "file_extension": ".py",
   "mimetype": "text/x-python",
   "name": "python",
   "nbconvert_exporter": "python",
   "pygments_lexer": "ipython3",
   "version": "3.13.7"
  }
 },
 "nbformat": 4,
 "nbformat_minor": 5
}
